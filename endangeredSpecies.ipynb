{
 "cells": [
  {
   "cell_type": "code",
   "execution_count": 51,
   "metadata": {},
   "outputs": [],
   "source": [
    "import pyspark as ps\n",
    "from pyspark.sql import SparkSession\n",
    "import pandas as pd\n",
    "import numpy as np\n"
   ]
  },
  {
   "cell_type": "code",
   "execution_count": 52,
   "metadata": {},
   "outputs": [],
   "source": [
    "species = pd.read_csv('species.csv')\n"
   ]
  },
  {
   "cell_type": "code",
   "execution_count": 53,
   "metadata": {},
   "outputs": [
    {
     "name": "stdout",
     "output_type": "stream",
     "text": [
      "   Unnamed: 0               Species Name            Common Name          Type  \\\n",
      "0           0        Abies beshanzuensis            Baishan fir  Plant (Tree)   \n",
      "1           1            Actinote zikani                      -        Insect   \n",
      "2           2      Aipysurus foliosquama  Leaf scaled sea-snake       Reptile   \n",
      "3           3    Amanipodagrion gilliesi         Amani flatwing        Insect   \n",
      "4           4  Antisolabis seychellensis                      -        Insect   \n",
      "\n",
      "                                       Location(s)  Estimated Population  \\\n",
      "0              Baishanzu Mountain, Zhejiang, China  5 mature individuals   \n",
      "1          Near São Paulo, Atlantic forest, Brazil               Unknown   \n",
      "2        Ashmore Reef and Hibernia Reef, Timor Sea               Unknown   \n",
      "3  Amani-Sigi Forest, Usambara Mountains, Tanzania     < 500 individuals   \n",
      "4             Morne Blanc, Mahé island, Seychelles               Unknown   \n",
      "\n",
      "                                             Threats  \n",
      "0                                  Agriculture, fire  \n",
      "1                  Habitat loss from human expansion  \n",
      "2  Unknown—probably degradation of coral reef hab...  \n",
      "3               Population pressure, water pollution  \n",
      "4                   Invasive species, climate change  \n"
     ]
    }
   ],
   "source": [
    "print(species.head())"
   ]
  },
  {
   "cell_type": "code",
   "execution_count": 54,
   "metadata": {},
   "outputs": [],
   "source": [
    "# change title for for first cell\n",
    "species.rename(columns = {'Unnamed: 0':'species_id'}, inplace = True)"
   ]
  },
  {
   "cell_type": "code",
   "execution_count": 55,
   "metadata": {},
   "outputs": [
    {
     "name": "stdout",
     "output_type": "stream",
     "text": [
      "   species_id         Species Name  Common Name          Type  \\\n",
      "0           0  Abies beshanzuensis  Baishan fir  Plant (Tree)   \n",
      "\n",
      "                           Location(s)  Estimated Population  \\\n",
      "0  Baishanzu Mountain, Zhejiang, China  5 mature individuals   \n",
      "\n",
      "             Threats  \n",
      "0  Agriculture, fire  \n"
     ]
    }
   ],
   "source": [
    "#print first row of species\n",
    "print(species.head(1))"
   ]
  },
  {
   "cell_type": "code",
   "execution_count": 56,
   "metadata": {},
   "outputs": [
    {
     "name": "stdout",
     "output_type": "stream",
     "text": [
      "(90, 7)\n"
     ]
    }
   ],
   "source": [
    "#number of rows\n",
    "\n",
    "print(species.shape)"
   ]
  },
  {
   "cell_type": "code",
   "execution_count": 57,
   "metadata": {},
   "outputs": [
    {
     "name": "stdout",
     "output_type": "stream",
     "text": [
      "['Agriculture, fire' 'Habitat loss from human expansion'\n",
      " 'Unknown—probably degradation of coral reef habitat'\n",
      " 'Population pressure, water pollution' 'Invasive species, climate change'\n",
      " 'Recreational facilities, water diversion'\n",
      " 'Competition, predation by Gambusia, road construction'\n",
      " 'Hunting, cave disturbance' 'Hydropower development'\n",
      " 'Agricultural development, energy transmission lines'\n",
      " 'Illegal collection for international pet trade'\n",
      " 'Chytridiomycosis, logging, agricultural expansion'\n",
      " 'Agriculture, hunting, fishing, introduced fish'\n",
      " 'Climate change, oceanographic changes related to the 1982/1983 El Nino'\n",
      " 'Over-fishing due to value of swim-bladder in traditional medicine'\n",
      " 'Illegal export to China' 'Forest clearance, overgrazing, development'\n",
      " 'Habitat loss, competition with livestock, poaching'\n",
      " 'Disease from commercial bees, habitat destruction and degradation'\n",
      " 'Large-scale deforestation and logging'\n",
      " 'Illegal logging of mangrove forests for firewood and construction, hunting'\n",
      " 'Habitat exploitation by livestock, modification of the pool by locals'\n",
      " 'Agriculture' 'Habitat disturbance, possible hunting, small population'\n",
      " 'Hunting, habitat loss'\n",
      " 'Habitat degradation, predation by invasive species' 'Limited habitat'\n",
      " 'Logging, cattle grazing, fire, agriculture'\n",
      " 'Habitat destruction, predation by introduced species'\n",
      " 'Poaching, limited habitat' 'Infrastructure development'\n",
      " 'Hunting (horn is used in traditional medicine)'\n",
      " 'Disease, incidental by-catch in long-line fishing'\n",
      " 'Collection for medicinal use'\n",
      " 'Agricultural activity, illegal tree felling, alluvial gold digging, small population'\n",
      " 'Logging of lowland forest, creation of industrial plantations'\n",
      " 'Predation by birds, range restriction due to habitat destruction'\n",
      " 'Encroachment by invasive plant species, habitat loss due to cannabis cultivation'\n",
      " 'Habitat degradation' 'Charcoal production, slash-and-burn agriculture'\n",
      " 'Collection of flowering plants'\n",
      " 'Limited habitat, small population size increase vulnerability'\n",
      " 'Illegal logging, agricultural expansion, infrastructure development'\n",
      " 'Trapping, land reclamation'\n",
      " 'Agriculture, illegal tree felling, alluvial gold digging'\n",
      " 'Habitat degradation and destruction, hunting'\n",
      " 'Timber extraction, agriculture, encroachment and development, predation by wild pigs'\n",
      " 'Increasing pollution levels, off-take of water, sedimentation events'\n",
      " 'Invasive plants, water abstraction'\n",
      " 'Overgrazing, trampling by goats and tourists'\n",
      " 'Agricultural expansion, overgrazing, fire suppression'\n",
      " 'Habitat degradation due to feral ungulates, competition with invasive plant species'\n",
      " 'Overfishing, damming, agriculture, other land use'\n",
      " 'Habitat degradation due to reduction in water quality and quantity'\n",
      " 'Urbanisation, over-grazing, conifer planting, road widening'\n",
      " 'Chytridiomycosis, predation by invasive species'\n",
      " 'Fungal disease, climate change, land-use changes'\n",
      " 'Habitat loss, hunting' 'Isolation of species, low regeneration rates'\n",
      " 'Pollution, development' 'Habitat loss, human disturbance' 'Poaching'\n",
      " 'Hunting' 'Illegal collection for pet trade'\n",
      " 'Habitat destruction and degradation due to drainage, agricultural expansion, exploitation of forest'\n",
      " 'Overfishing, collection for aquarium trade'\n",
      " 'Human expansion, limited range' \"Capture in fishermen's gillnets\"\n",
      " 'Destruction of forest' 'Limited distribution, small population size'\n",
      " 'Deforestation, firewood collection, civil unrest'\n",
      " 'Predation by introduced species (Rattus rattus and feral cats)'\n",
      " 'Exploitation has removed the species from 95% of its historical range'\n",
      " 'Hunting, habitat disturbance' 'Loss of habitat, destruction, predation'\n",
      " 'Habitat destruction, hunting'\n",
      " 'Development project, competition from invasive plant species'\n",
      " 'Climate change, habitat loss'\n",
      " 'Hunting for consumption, wetland destruction, pollution'\n",
      " 'Hunting for traditional medicine, small population size'\n",
      " 'Land clearance for agriculture, climate change, salinisation'\n",
      " 'Development causing habitat loss' 'Habitat degradation and destruction'\n",
      " 'Domestic animal grazing, climate change, drought, medicinal plant collecting, limited range'\n",
      " 'Loss of habitat' 'Urban development, coffee cultivation' nan]\n"
     ]
    }
   ],
   "source": [
    "#identify unique threats \n",
    "print(species.Threats.unique())"
   ]
  },
  {
   "cell_type": "code",
   "execution_count": 58,
   "metadata": {},
   "outputs": [],
   "source": [
    "# remove rows with threats as nan\n",
    "\n",
    "species = species.dropna(subset=['Threats'])"
   ]
  },
  {
   "cell_type": "code",
   "execution_count": 59,
   "metadata": {},
   "outputs": [
    {
     "name": "stdout",
     "output_type": "stream",
     "text": [
      "(89, 7)\n"
     ]
    }
   ],
   "source": [
    "print(species.shape)"
   ]
  },
  {
   "cell_type": "code",
   "execution_count": 60,
   "metadata": {},
   "outputs": [],
   "source": [
    "# gather all the unique regions\n",
    "locations = species['Location(s)']\n",
    "\n",
    "# create a list of all the unique regions\n",
    "locations_list = []\n",
    "for location in locations:\n",
    "    locations_list.append(location.split(', '))\n",
    "\n"
   ]
  },
  {
   "cell_type": "code",
   "execution_count": 61,
   "metadata": {},
   "outputs": [
    {
     "name": "stdout",
     "output_type": "stream",
     "text": [
      "[['Baishanzu Mountain', 'Zhejiang', 'China'], ['Near São Paulo', 'Atlantic forest', 'Brazil'], ['Ashmore Reef and Hibernia Reef', 'Timor Sea'], ['Amani-Sigi Forest', 'Usambara Mountains', 'Tanzania'], ['Morne Blanc', 'Mahé island', 'Seychelles'], ['Chapado do Araripe', 'South Ceará', 'Brazil'], ['South-eastern shore of former Lake Aci', 'Turkey'], ['Luplupwintern Cave', 'Western Province', 'Papua NG'], ['Bhutan', 'North East India', 'Myanmar'], ['Rajasthan', 'Gujarat', 'Maharashtra', 'India'], ['Baly Bay region', 'northwestern Madagascar'], ['Azuay', 'Cañar', 'Guyas provinces', 'Ecuador'], ['Volcanic lakes north of Bealanana', 'Madagascar'], ['Unknown'], ['Chinese coast from Yangtze River', 'China to Hong Kong'], ['Bangladesh', 'Cambodia', 'India', 'Indonesia', 'Malaysia'], ['Budini and Lafeti Khola', 'Bhutan'], ['South-east Kenya', 'possibly south-west Somalia'], ['Oregon and California'], ['Atlantic forest', 'south-eastern Brazil'], ['Isla Escudo de Veraguas', 'Panama'], ['Pool on Gavdos', 'Greece'], [\"Anosibe An'Ala region\", 'eastern Madagascar'], ['Moleques do Sul Island', 'Santa Catarina', 'Brazil'], [\"Côte d'Ivoire\"], ['Two small caves on Silhouette and Mahé', 'Seychelles'], ['Pembrokeshire', 'United Kingdom'], ['Volcán San Martín Tuxtla', 'Veracruz', 'Mexico'], ['Hellshire Hills', 'Jamaica'], ['Deciduous forest', 'East Madagascar'], ['Ironwood Forest', 'George Town', 'Grand Cayman'], ['Sabah', 'Sarawak', 'Peninsular Malaysia', 'Kalimantan', 'Sumatra', 'Indonesia'], ['Breeds on Plateuau des Tourbières', 'Amsterdam Island', 'Indian Ocean'], ['Oshoek area', 'Mpumalanga', 'South Africa'], ['Kasyoha-Kitomi Forest Reserve', 'Uganda'], ['Siangau Forest Reserve', 'Sabah', 'Malaysia'], ['Hula Valley', 'Israel'], ['Mauritius'], ['Grand Bassin', 'Mauritius'], ['Massif de la Hotte', 'Haiti'], ['Formon and Macaya peaks', 'Masif de la Hotte', 'Haiti'], ['Pta Molles and Pichidungui', 'Chile'], ['Namatimbili-Ngarama Forest', 'Tanzania'], ['Witu Forest Reserve', 'Kenya'], ['Breeds in Russia', 'migrates along the East Asian-Australasian Flyway to wintering grounds in India', 'Bangladesh', 'Myanmar'], ['Kasyoha-Kitomi Forest Reserve', 'Ishasha River', 'Uganda'], ['Breeds in Morocco', 'Turkey', 'Syria; winters in central Ethiopia'], ['Kaya Muhaka', 'Gongoni and Mrima Forest Reserves', 'Kenya; Amani Nature Reserve', 'West Kilombero Scarp Forest Reserve', 'Kihansi Gorge', 'Tanzania'], ['Lake Ohrid', 'Macedonia'], ['Table Mountain', 'Western Cape Province', 'South Africa'], ['Jandia peninsula', 'Fuerteventura', 'Canary Islands'], ['Liben Plains', 'southern Ethiopia'], ['Kalalau Valley', 'Hawaii'], ['Russian and Japanese rivers', 'Pacific Ocean between Russia and Japan'], ['Bukit Timah Nature Reserve and streamlet near Bukit Batok', 'Singapore'], ['Outskirts of Belin village', 'Antalya', 'Turkey'], ['Coromandel peninsula and Whareorino Forest', 'New Zealand'], ['Harrison County', 'Mississippi', 'USA'], ['Quang Binh', 'Quang Tri', 'Thua Thien-Hue', 'Vietnam'], ['Risaralda', 'Colombia'], ['Oued Denna', 'Oued Abid', 'Oued Beth', 'Morocco'], ['Silhouette Island', 'Seychelles'], ['Cueva La Barca', 'Isle of Pines', 'Cuba'], ['Mount Victoria', 'Palawan', 'Philippines'], ['Hainan Island', 'China'], ['Zagros Mountains', 'Lorestan', 'Iran'], ['Mulanje Plateau', 'Malawi'], ['Chao Phraya and Mekong basins in Cambodia', 'China', 'Lao PDR', 'Thailand', 'Vietnam'], ['Cerrado', 'Brazil'], ['Northern Gulf of California', 'Mexico'], ['Qinling Range', 'China'], ['Qiaojia', 'Yunnan', 'China'], ['Nandyal and Giddalur', 'Andhra Pradesh', 'India'], ['Fatu Hiva', 'Marquesas Islands', 'French Polynesia'], ['Coastal tropical and subtropical waters of Indo-Pacific and Atlantic Oceans'], ['Maroantsetra to Andapa basin', 'Marojeju Massif', 'Madagascar'], ['Western Cape Province', 'South Africa'], ['Annamite mountains', 'Viet Nam - Laos PDR border'], ['Mauritius'], ['Beydaglari range', 'Antalaya', 'Turkey'], ['Hoan Kiem Lake', 'Dong Mo Lake', 'Viet Nam', 'Suzhou Zoo', 'China'], ['Ujung Kulon National Park', 'Java', 'Indonesia'], ['Northeastern Vietnam'], ['Western Australia', 'Australia'], ['Boni-Dodori Forest', 'Lamu area', 'Kenya'], ['Rivulet beside the Kawasan River', 'Cebu', 'Philippines'], ['St Katherine Mountains', 'Egypt'], ['Marshes of Lake Alaotra', 'Madagascar'], ['Sierra Nevada de Santa Marta', 'Colombia']]\n"
     ]
    }
   ],
   "source": [
    "print(locations_list)"
   ]
  },
  {
   "cell_type": "code",
   "execution_count": 62,
   "metadata": {},
   "outputs": [
    {
     "name": "stdout",
     "output_type": "stream",
     "text": [
      "89\n"
     ]
    }
   ],
   "source": [
    "#shape of locations_list\n",
    "print(len(locations_list))"
   ]
  },
  {
   "cell_type": "code",
   "execution_count": 63,
   "metadata": {},
   "outputs": [],
   "source": [
    "# append it to the species dataframe new coulumn\n",
    "species = species.copy()\n",
    "species['location_list'] = locations_list\n"
   ]
  },
  {
   "cell_type": "code",
   "execution_count": 64,
   "metadata": {},
   "outputs": [
    {
     "data": {
      "text/html": [
       "<div>\n",
       "<style scoped>\n",
       "    .dataframe tbody tr th:only-of-type {\n",
       "        vertical-align: middle;\n",
       "    }\n",
       "\n",
       "    .dataframe tbody tr th {\n",
       "        vertical-align: top;\n",
       "    }\n",
       "\n",
       "    .dataframe thead th {\n",
       "        text-align: right;\n",
       "    }\n",
       "</style>\n",
       "<table border=\"1\" class=\"dataframe\">\n",
       "  <thead>\n",
       "    <tr style=\"text-align: right;\">\n",
       "      <th></th>\n",
       "      <th>species_id</th>\n",
       "      <th>Species Name</th>\n",
       "      <th>Common Name</th>\n",
       "      <th>Type</th>\n",
       "      <th>Location(s)</th>\n",
       "      <th>Estimated Population</th>\n",
       "      <th>Threats</th>\n",
       "      <th>location_list</th>\n",
       "    </tr>\n",
       "  </thead>\n",
       "  <tbody>\n",
       "    <tr>\n",
       "      <th>0</th>\n",
       "      <td>0</td>\n",
       "      <td>Abies beshanzuensis</td>\n",
       "      <td>Baishan fir</td>\n",
       "      <td>Plant (Tree)</td>\n",
       "      <td>Baishanzu Mountain, Zhejiang, China</td>\n",
       "      <td>5 mature individuals</td>\n",
       "      <td>Agriculture, fire</td>\n",
       "      <td>[Baishanzu Mountain, Zhejiang, China]</td>\n",
       "    </tr>\n",
       "    <tr>\n",
       "      <th>1</th>\n",
       "      <td>1</td>\n",
       "      <td>Actinote zikani</td>\n",
       "      <td>-</td>\n",
       "      <td>Insect</td>\n",
       "      <td>Near São Paulo, Atlantic forest, Brazil</td>\n",
       "      <td>Unknown</td>\n",
       "      <td>Habitat loss from human expansion</td>\n",
       "      <td>[Near São Paulo, Atlantic forest, Brazil]</td>\n",
       "    </tr>\n",
       "    <tr>\n",
       "      <th>2</th>\n",
       "      <td>2</td>\n",
       "      <td>Aipysurus foliosquama</td>\n",
       "      <td>Leaf scaled sea-snake</td>\n",
       "      <td>Reptile</td>\n",
       "      <td>Ashmore Reef and Hibernia Reef, Timor Sea</td>\n",
       "      <td>Unknown</td>\n",
       "      <td>Unknown—probably degradation of coral reef hab...</td>\n",
       "      <td>[Ashmore Reef and Hibernia Reef, Timor Sea]</td>\n",
       "    </tr>\n",
       "    <tr>\n",
       "      <th>3</th>\n",
       "      <td>3</td>\n",
       "      <td>Amanipodagrion gilliesi</td>\n",
       "      <td>Amani flatwing</td>\n",
       "      <td>Insect</td>\n",
       "      <td>Amani-Sigi Forest, Usambara Mountains, Tanzania</td>\n",
       "      <td>&lt; 500 individuals</td>\n",
       "      <td>Population pressure, water pollution</td>\n",
       "      <td>[Amani-Sigi Forest, Usambara Mountains, Tanzania]</td>\n",
       "    </tr>\n",
       "    <tr>\n",
       "      <th>4</th>\n",
       "      <td>4</td>\n",
       "      <td>Antisolabis seychellensis</td>\n",
       "      <td>-</td>\n",
       "      <td>Insect</td>\n",
       "      <td>Morne Blanc, Mahé island, Seychelles</td>\n",
       "      <td>Unknown</td>\n",
       "      <td>Invasive species, climate change</td>\n",
       "      <td>[Morne Blanc, Mahé island, Seychelles]</td>\n",
       "    </tr>\n",
       "  </tbody>\n",
       "</table>\n",
       "</div>"
      ],
      "text/plain": [
       "   species_id               Species Name            Common Name          Type  \\\n",
       "0           0        Abies beshanzuensis            Baishan fir  Plant (Tree)   \n",
       "1           1            Actinote zikani                      -        Insect   \n",
       "2           2      Aipysurus foliosquama  Leaf scaled sea-snake       Reptile   \n",
       "3           3    Amanipodagrion gilliesi         Amani flatwing        Insect   \n",
       "4           4  Antisolabis seychellensis                      -        Insect   \n",
       "\n",
       "                                       Location(s)  Estimated Population  \\\n",
       "0              Baishanzu Mountain, Zhejiang, China  5 mature individuals   \n",
       "1          Near São Paulo, Atlantic forest, Brazil               Unknown   \n",
       "2        Ashmore Reef and Hibernia Reef, Timor Sea               Unknown   \n",
       "3  Amani-Sigi Forest, Usambara Mountains, Tanzania     < 500 individuals   \n",
       "4             Morne Blanc, Mahé island, Seychelles               Unknown   \n",
       "\n",
       "                                             Threats  \\\n",
       "0                                  Agriculture, fire   \n",
       "1                  Habitat loss from human expansion   \n",
       "2  Unknown—probably degradation of coral reef hab...   \n",
       "3               Population pressure, water pollution   \n",
       "4                   Invasive species, climate change   \n",
       "\n",
       "                                       location_list  \n",
       "0              [Baishanzu Mountain, Zhejiang, China]  \n",
       "1          [Near São Paulo, Atlantic forest, Brazil]  \n",
       "2        [Ashmore Reef and Hibernia Reef, Timor Sea]  \n",
       "3  [Amani-Sigi Forest, Usambara Mountains, Tanzania]  \n",
       "4             [Morne Blanc, Mahé island, Seychelles]  "
      ]
     },
     "execution_count": 64,
     "metadata": {},
     "output_type": "execute_result"
    }
   ],
   "source": [
    "species.head()"
   ]
  },
  {
   "cell_type": "code",
   "execution_count": 65,
   "metadata": {},
   "outputs": [
    {
     "ename": "IndexError",
     "evalue": "list index out of range",
     "output_type": "error",
     "traceback": [
      "\u001b[1;31m---------------------------------------------------------------------------\u001b[0m",
      "\u001b[1;31mIndexError\u001b[0m                                Traceback (most recent call last)",
      "Cell \u001b[1;32mIn[65], line 9\u001b[0m\n\u001b[0;32m      7\u001b[0m     regions\u001b[38;5;241m.\u001b[39mappend(location[\u001b[38;5;241m0\u001b[39m])\n\u001b[0;32m      8\u001b[0m     cities\u001b[38;5;241m.\u001b[39mappend(location[\u001b[38;5;241m1\u001b[39m])\n\u001b[1;32m----> 9\u001b[0m     countries\u001b[38;5;241m.\u001b[39mappend(\u001b[43mlocation\u001b[49m\u001b[43m[\u001b[49m\u001b[38;5;241;43m2\u001b[39;49m\u001b[43m]\u001b[49m)\n\u001b[0;32m     11\u001b[0m species[\u001b[38;5;124m'\u001b[39m\u001b[38;5;124mregion\u001b[39m\u001b[38;5;124m'\u001b[39m] \u001b[38;5;241m=\u001b[39m regions\n\u001b[0;32m     12\u001b[0m species[\u001b[38;5;124m'\u001b[39m\u001b[38;5;124mcity\u001b[39m\u001b[38;5;124m'\u001b[39m] \u001b[38;5;241m=\u001b[39m cities\n",
      "\u001b[1;31mIndexError\u001b[0m: list index out of range"
     ]
    }
   ],
   "source": [
    "# for each item in the list in location_list, creat a column region, city, country\n",
    "regions = []\n",
    "cities = []\n",
    "countries = []\n",
    "\n",
    "for location in locations_list:\n",
    "    regions.append(location[0])\n",
    "    cities.append(location[1])\n",
    "    countries.append(location[2])\n",
    "\n",
    "species['region'] = regions\n",
    "species['city'] = cities\n",
    "species['country'] = countries\n"
   ]
  }
 ],
 "metadata": {
  "kernelspec": {
   "display_name": "base",
   "language": "python",
   "name": "python3"
  },
  "language_info": {
   "codemirror_mode": {
    "name": "ipython",
    "version": 3
   },
   "file_extension": ".py",
   "mimetype": "text/x-python",
   "name": "python",
   "nbconvert_exporter": "python",
   "pygments_lexer": "ipython3",
   "version": "3.11.7"
  }
 },
 "nbformat": 4,
 "nbformat_minor": 2
}

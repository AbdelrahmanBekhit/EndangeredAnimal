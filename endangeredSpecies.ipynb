{
 "cells": [
  {
   "cell_type": "code",
   "execution_count": null,
   "metadata": {},
   "outputs": [],
   "source": [
    "import pyspark as ps\n",
    "from pyspark.sql import SparkSession\n",
    "import pandas as pd\n",
    "import numpy as np\n"
   ]
  },
  {
   "cell_type": "code",
   "execution_count": 3,
   "metadata": {},
   "outputs": [],
   "source": [
    "species = pd.read_csv('species.csv')\n"
   ]
  },
  {
   "cell_type": "code",
   "execution_count": 4,
   "metadata": {},
   "outputs": [
    {
     "name": "stdout",
     "output_type": "stream",
     "text": [
      "   Unnamed: 0               Species Name            Common Name          Type  \\\n",
      "0           0        Abies beshanzuensis            Baishan fir  Plant (Tree)   \n",
      "1           1            Actinote zikani                      -        Insect   \n",
      "2           2      Aipysurus foliosquama  Leaf scaled sea-snake       Reptile   \n",
      "3           3    Amanipodagrion gilliesi         Amani flatwing        Insect   \n",
      "4           4  Antisolabis seychellensis                      -        Insect   \n",
      "\n",
      "                                       Location(s)  Estimated Population  \\\n",
      "0              Baishanzu Mountain, Zhejiang, China  5 mature individuals   \n",
      "1          Near São Paulo, Atlantic forest, Brazil               Unknown   \n",
      "2        Ashmore Reef and Hibernia Reef, Timor Sea               Unknown   \n",
      "3  Amani-Sigi Forest, Usambara Mountains, Tanzania     < 500 individuals   \n",
      "4             Morne Blanc, Mahé island, Seychelles               Unknown   \n",
      "\n",
      "                                             Threats  \n",
      "0                                  Agriculture, fire  \n",
      "1                  Habitat loss from human expansion  \n",
      "2  Unknown—probably degradation of coral reef hab...  \n",
      "3               Population pressure, water pollution  \n",
      "4                   Invasive species, climate change  \n"
     ]
    }
   ],
   "source": [
    "print(species.head())"
   ]
  },
  {
   "cell_type": "code",
   "execution_count": 6,
   "metadata": {},
   "outputs": [],
   "source": [
    "# change title for for first cell\n",
    "species.rename(columns = {'Unnamed: 0':'species_id'}, inplace = True)"
   ]
  },
  {
   "cell_type": "code",
   "execution_count": 7,
   "metadata": {},
   "outputs": [
    {
     "name": "stdout",
     "output_type": "stream",
     "text": [
      "   species_id         Species Name  Common Name          Type  \\\n",
      "0           0  Abies beshanzuensis  Baishan fir  Plant (Tree)   \n",
      "\n",
      "                           Location(s)  Estimated Population  \\\n",
      "0  Baishanzu Mountain, Zhejiang, China  5 mature individuals   \n",
      "\n",
      "             Threats  \n",
      "0  Agriculture, fire  \n"
     ]
    }
   ],
   "source": [
    "#print first row of species\n",
    "print(species.head(1))"
   ]
  },
  {
   "cell_type": "code",
   "execution_count": 9,
   "metadata": {},
   "outputs": [
    {
     "name": "stdout",
     "output_type": "stream",
     "text": [
      "(90, 7)\n"
     ]
    }
   ],
   "source": [
    "#number of rows\n",
    "\n",
    "print(species.shape)"
   ]
  },
  {
   "cell_type": "code",
   "execution_count": 11,
   "metadata": {},
   "outputs": [
    {
     "name": "stdout",
     "output_type": "stream",
     "text": [
      "['Agriculture, fire' 'Habitat loss from human expansion'\n",
      " 'Unknown—probably degradation of coral reef habitat'\n",
      " 'Population pressure, water pollution' 'Invasive species, climate change'\n",
      " 'Recreational facilities, water diversion'\n",
      " 'Competition, predation by Gambusia, road construction'\n",
      " 'Hunting, cave disturbance' 'Hydropower development'\n",
      " 'Agricultural development, energy transmission lines'\n",
      " 'Illegal collection for international pet trade'\n",
      " 'Chytridiomycosis, logging, agricultural expansion'\n",
      " 'Agriculture, hunting, fishing, introduced fish'\n",
      " 'Climate change, oceanographic changes related to the 1982/1983 El Nino'\n",
      " 'Over-fishing due to value of swim-bladder in traditional medicine'\n",
      " 'Illegal export to China' 'Forest clearance, overgrazing, development'\n",
      " 'Habitat loss, competition with livestock, poaching'\n",
      " 'Disease from commercial bees, habitat destruction and degradation'\n",
      " 'Large-scale deforestation and logging'\n",
      " 'Illegal logging of mangrove forests for firewood and construction, hunting'\n",
      " 'Habitat exploitation by livestock, modification of the pool by locals'\n",
      " 'Agriculture' 'Habitat disturbance, possible hunting, small population'\n",
      " 'Hunting, habitat loss'\n",
      " 'Habitat degradation, predation by invasive species' 'Limited habitat'\n",
      " 'Logging, cattle grazing, fire, agriculture'\n",
      " 'Habitat destruction, predation by introduced species'\n",
      " 'Poaching, limited habitat' 'Infrastructure development'\n",
      " 'Hunting (horn is used in traditional medicine)'\n",
      " 'Disease, incidental by-catch in long-line fishing'\n",
      " 'Collection for medicinal use'\n",
      " 'Agricultural activity, illegal tree felling, alluvial gold digging, small population'\n",
      " 'Logging of lowland forest, creation of industrial plantations'\n",
      " 'Predation by birds, range restriction due to habitat destruction'\n",
      " 'Encroachment by invasive plant species, habitat loss due to cannabis cultivation'\n",
      " 'Habitat degradation' 'Charcoal production, slash-and-burn agriculture'\n",
      " 'Collection of flowering plants'\n",
      " 'Limited habitat, small population size increase vulnerability'\n",
      " 'Illegal logging, agricultural expansion, infrastructure development'\n",
      " 'Trapping, land reclamation'\n",
      " 'Agriculture, illegal tree felling, alluvial gold digging'\n",
      " 'Habitat degradation and destruction, hunting'\n",
      " 'Timber extraction, agriculture, encroachment and development, predation by wild pigs'\n",
      " 'Increasing pollution levels, off-take of water, sedimentation events'\n",
      " 'Invasive plants, water abstraction'\n",
      " 'Overgrazing, trampling by goats and tourists'\n",
      " 'Agricultural expansion, overgrazing, fire suppression'\n",
      " 'Habitat degradation due to feral ungulates, competition with invasive plant species'\n",
      " 'Overfishing, damming, agriculture, other land use'\n",
      " 'Habitat degradation due to reduction in water quality and quantity'\n",
      " 'Urbanisation, over-grazing, conifer planting, road widening'\n",
      " 'Chytridiomycosis, predation by invasive species'\n",
      " 'Fungal disease, climate change, land-use changes'\n",
      " 'Habitat loss, hunting' 'Isolation of species, low regeneration rates'\n",
      " 'Pollution, development' 'Habitat loss, human disturbance' 'Poaching'\n",
      " 'Hunting' 'Illegal collection for pet trade'\n",
      " 'Habitat destruction and degradation due to drainage, agricultural expansion, exploitation of forest'\n",
      " 'Overfishing, collection for aquarium trade'\n",
      " 'Human expansion, limited range' \"Capture in fishermen's gillnets\"\n",
      " 'Destruction of forest' 'Limited distribution, small population size'\n",
      " 'Deforestation, firewood collection, civil unrest'\n",
      " 'Predation by introduced species (Rattus rattus and feral cats)'\n",
      " 'Exploitation has removed the species from 95% of its historical range'\n",
      " 'Hunting, habitat disturbance' 'Loss of habitat, destruction, predation'\n",
      " 'Habitat destruction, hunting'\n",
      " 'Development project, competition from invasive plant species'\n",
      " 'Climate change, habitat loss'\n",
      " 'Hunting for consumption, wetland destruction, pollution'\n",
      " 'Hunting for traditional medicine, small population size'\n",
      " 'Land clearance for agriculture, climate change, salinisation'\n",
      " 'Development causing habitat loss' 'Habitat degradation and destruction'\n",
      " 'Domestic animal grazing, climate change, drought, medicinal plant collecting, limited range'\n",
      " 'Loss of habitat' 'Urban development, coffee cultivation' nan]\n"
     ]
    }
   ],
   "source": [
    "#identify unique threats \n",
    "print(species.Threats.unique())"
   ]
  },
  {
   "cell_type": "code",
   "execution_count": null,
   "metadata": {},
   "outputs": [],
   "source": [
    "# remove nans from "
   ]
  }
 ],
 "metadata": {
  "kernelspec": {
   "display_name": "base",
   "language": "python",
   "name": "python3"
  },
  "language_info": {
   "codemirror_mode": {
    "name": "ipython",
    "version": 3
   },
   "file_extension": ".py",
   "mimetype": "text/x-python",
   "name": "python",
   "nbconvert_exporter": "python",
   "pygments_lexer": "ipython3",
   "version": "3.11.7"
  }
 },
 "nbformat": 4,
 "nbformat_minor": 2
}

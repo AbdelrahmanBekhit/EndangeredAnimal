{
 "cells": [
  {
   "cell_type": "code",
   "execution_count": 98,
   "metadata": {},
   "outputs": [],
   "source": [
    "import pyspark as ps\n",
    "from pyspark.sql import SparkSession\n",
    "import pandas as pd\n",
    "import numpy as np\n"
   ]
  },
  {
   "cell_type": "code",
   "execution_count": 99,
   "metadata": {},
   "outputs": [],
   "source": [
    "species = pd.read_csv('species.csv')\n"
   ]
  },
  {
   "cell_type": "code",
   "execution_count": 100,
   "metadata": {},
   "outputs": [
    {
     "name": "stdout",
     "output_type": "stream",
     "text": [
      "   Unnamed: 0               Species Name            Common Name          Type  \\\n",
      "0           0        Abies beshanzuensis            Baishan fir  Plant (Tree)   \n",
      "1           1            Actinote zikani                      -        Insect   \n",
      "2           2      Aipysurus foliosquama  Leaf scaled sea-snake       Reptile   \n",
      "3           3    Amanipodagrion gilliesi         Amani flatwing        Insect   \n",
      "4           4  Antisolabis seychellensis                      -        Insect   \n",
      "\n",
      "                                       Location(s)  Estimated Population  \\\n",
      "0              Baishanzu Mountain, Zhejiang, China  5 mature individuals   \n",
      "1          Near São Paulo, Atlantic forest, Brazil               Unknown   \n",
      "2        Ashmore Reef and Hibernia Reef, Timor Sea               Unknown   \n",
      "3  Amani-Sigi Forest, Usambara Mountains, Tanzania     < 500 individuals   \n",
      "4             Morne Blanc, Mahé island, Seychelles               Unknown   \n",
      "\n",
      "                                             Threats  \n",
      "0                                  Agriculture, fire  \n",
      "1                  Habitat loss from human expansion  \n",
      "2  Unknown—probably degradation of coral reef hab...  \n",
      "3               Population pressure, water pollution  \n",
      "4                   Invasive species, climate change  \n"
     ]
    }
   ],
   "source": [
    "print(species.head())"
   ]
  },
  {
   "cell_type": "code",
   "execution_count": 101,
   "metadata": {},
   "outputs": [],
   "source": [
    "# change title for for first cell\n",
    "species.rename(columns = {'Unnamed: 0':'species_id'}, inplace = True)"
   ]
  },
  {
   "cell_type": "code",
   "execution_count": 102,
   "metadata": {},
   "outputs": [
    {
     "name": "stdout",
     "output_type": "stream",
     "text": [
      "   species_id         Species Name  Common Name          Type  \\\n",
      "0           0  Abies beshanzuensis  Baishan fir  Plant (Tree)   \n",
      "\n",
      "                           Location(s)  Estimated Population  \\\n",
      "0  Baishanzu Mountain, Zhejiang, China  5 mature individuals   \n",
      "\n",
      "             Threats  \n",
      "0  Agriculture, fire  \n"
     ]
    }
   ],
   "source": [
    "#print first row of species\n",
    "print(species.head(1))"
   ]
  },
  {
   "cell_type": "code",
   "execution_count": 103,
   "metadata": {},
   "outputs": [
    {
     "name": "stdout",
     "output_type": "stream",
     "text": [
      "(90, 7)\n"
     ]
    }
   ],
   "source": [
    "#number of rows\n",
    "\n",
    "print(species.shape)"
   ]
  },
  {
   "cell_type": "code",
   "execution_count": 104,
   "metadata": {},
   "outputs": [
    {
     "name": "stdout",
     "output_type": "stream",
     "text": [
      "['Agriculture, fire' 'Habitat loss from human expansion'\n",
      " 'Unknown—probably degradation of coral reef habitat'\n",
      " 'Population pressure, water pollution' 'Invasive species, climate change'\n",
      " 'Recreational facilities, water diversion'\n",
      " 'Competition, predation by Gambusia, road construction'\n",
      " 'Hunting, cave disturbance' 'Hydropower development'\n",
      " 'Agricultural development, energy transmission lines'\n",
      " 'Illegal collection for international pet trade'\n",
      " 'Chytridiomycosis, logging, agricultural expansion'\n",
      " 'Agriculture, hunting, fishing, introduced fish'\n",
      " 'Climate change, oceanographic changes related to the 1982/1983 El Nino'\n",
      " 'Over-fishing due to value of swim-bladder in traditional medicine'\n",
      " 'Illegal export to China' 'Forest clearance, overgrazing, development'\n",
      " 'Habitat loss, competition with livestock, poaching'\n",
      " 'Disease from commercial bees, habitat destruction and degradation'\n",
      " 'Large-scale deforestation and logging'\n",
      " 'Illegal logging of mangrove forests for firewood and construction, hunting'\n",
      " 'Habitat exploitation by livestock, modification of the pool by locals'\n",
      " 'Agriculture' 'Habitat disturbance, possible hunting, small population'\n",
      " 'Hunting, habitat loss'\n",
      " 'Habitat degradation, predation by invasive species' 'Limited habitat'\n",
      " 'Logging, cattle grazing, fire, agriculture'\n",
      " 'Habitat destruction, predation by introduced species'\n",
      " 'Poaching, limited habitat' 'Infrastructure development'\n",
      " 'Hunting (horn is used in traditional medicine)'\n",
      " 'Disease, incidental by-catch in long-line fishing'\n",
      " 'Collection for medicinal use'\n",
      " 'Agricultural activity, illegal tree felling, alluvial gold digging, small population'\n",
      " 'Logging of lowland forest, creation of industrial plantations'\n",
      " 'Predation by birds, range restriction due to habitat destruction'\n",
      " 'Encroachment by invasive plant species, habitat loss due to cannabis cultivation'\n",
      " 'Habitat degradation' 'Charcoal production, slash-and-burn agriculture'\n",
      " 'Collection of flowering plants'\n",
      " 'Limited habitat, small population size increase vulnerability'\n",
      " 'Illegal logging, agricultural expansion, infrastructure development'\n",
      " 'Trapping, land reclamation'\n",
      " 'Agriculture, illegal tree felling, alluvial gold digging'\n",
      " 'Habitat degradation and destruction, hunting'\n",
      " 'Timber extraction, agriculture, encroachment and development, predation by wild pigs'\n",
      " 'Increasing pollution levels, off-take of water, sedimentation events'\n",
      " 'Invasive plants, water abstraction'\n",
      " 'Overgrazing, trampling by goats and tourists'\n",
      " 'Agricultural expansion, overgrazing, fire suppression'\n",
      " 'Habitat degradation due to feral ungulates, competition with invasive plant species'\n",
      " 'Overfishing, damming, agriculture, other land use'\n",
      " 'Habitat degradation due to reduction in water quality and quantity'\n",
      " 'Urbanisation, over-grazing, conifer planting, road widening'\n",
      " 'Chytridiomycosis, predation by invasive species'\n",
      " 'Fungal disease, climate change, land-use changes'\n",
      " 'Habitat loss, hunting' 'Isolation of species, low regeneration rates'\n",
      " 'Pollution, development' 'Habitat loss, human disturbance' 'Poaching'\n",
      " 'Hunting' 'Illegal collection for pet trade'\n",
      " 'Habitat destruction and degradation due to drainage, agricultural expansion, exploitation of forest'\n",
      " 'Overfishing, collection for aquarium trade'\n",
      " 'Human expansion, limited range' \"Capture in fishermen's gillnets\"\n",
      " 'Destruction of forest' 'Limited distribution, small population size'\n",
      " 'Deforestation, firewood collection, civil unrest'\n",
      " 'Predation by introduced species (Rattus rattus and feral cats)'\n",
      " 'Exploitation has removed the species from 95% of its historical range'\n",
      " 'Hunting, habitat disturbance' 'Loss of habitat, destruction, predation'\n",
      " 'Habitat destruction, hunting'\n",
      " 'Development project, competition from invasive plant species'\n",
      " 'Climate change, habitat loss'\n",
      " 'Hunting for consumption, wetland destruction, pollution'\n",
      " 'Hunting for traditional medicine, small population size'\n",
      " 'Land clearance for agriculture, climate change, salinisation'\n",
      " 'Development causing habitat loss' 'Habitat degradation and destruction'\n",
      " 'Domestic animal grazing, climate change, drought, medicinal plant collecting, limited range'\n",
      " 'Loss of habitat' 'Urban development, coffee cultivation' nan]\n"
     ]
    }
   ],
   "source": [
    "#identify unique threats \n",
    "print(species.Threats.unique())"
   ]
  },
  {
   "cell_type": "code",
   "execution_count": 105,
   "metadata": {},
   "outputs": [],
   "source": [
    "# remove rows with threats as nan\n",
    "\n",
    "species = species.dropna(subset=['Threats'])"
   ]
  },
  {
   "cell_type": "code",
   "execution_count": 106,
   "metadata": {},
   "outputs": [
    {
     "name": "stdout",
     "output_type": "stream",
     "text": [
      "(89, 7)\n"
     ]
    }
   ],
   "source": [
    "print(species.shape)"
   ]
  },
  {
   "cell_type": "code",
   "execution_count": 107,
   "metadata": {},
   "outputs": [],
   "source": [
    "# gather all the unique regions\n",
    "locations = species['Location(s)']\n",
    "\n",
    "# create a list of all the unique regions\n",
    "locations_list = []\n",
    "for location in locations:\n",
    "    locations_list.append(location.split(', '))\n",
    "\n"
   ]
  },
  {
   "cell_type": "code",
   "execution_count": 108,
   "metadata": {},
   "outputs": [
    {
     "name": "stdout",
     "output_type": "stream",
     "text": [
      "[['Baishanzu Mountain', 'Zhejiang', 'China'], ['Near São Paulo', 'Atlantic forest', 'Brazil'], ['Ashmore Reef and Hibernia Reef', 'Timor Sea'], ['Amani-Sigi Forest', 'Usambara Mountains', 'Tanzania'], ['Morne Blanc', 'Mahé island', 'Seychelles'], ['Chapado do Araripe', 'South Ceará', 'Brazil'], ['South-eastern shore of former Lake Aci', 'Turkey'], ['Luplupwintern Cave', 'Western Province', 'Papua NG'], ['Bhutan', 'North East India', 'Myanmar'], ['Rajasthan', 'Gujarat', 'Maharashtra', 'India'], ['Baly Bay region', 'northwestern Madagascar'], ['Azuay', 'Cañar', 'Guyas provinces', 'Ecuador'], ['Volcanic lakes north of Bealanana', 'Madagascar'], ['Unknown'], ['Chinese coast from Yangtze River', 'China to Hong Kong'], ['Bangladesh', 'Cambodia', 'India', 'Indonesia', 'Malaysia'], ['Budini and Lafeti Khola', 'Bhutan'], ['South-east Kenya', 'possibly south-west Somalia'], ['Oregon and California'], ['Atlantic forest', 'south-eastern Brazil'], ['Isla Escudo de Veraguas', 'Panama'], ['Pool on Gavdos', 'Greece'], [\"Anosibe An'Ala region\", 'eastern Madagascar'], ['Moleques do Sul Island', 'Santa Catarina', 'Brazil'], [\"Côte d'Ivoire\"], ['Two small caves on Silhouette and Mahé', 'Seychelles'], ['Pembrokeshire', 'United Kingdom'], ['Volcán San Martín Tuxtla', 'Veracruz', 'Mexico'], ['Hellshire Hills', 'Jamaica'], ['Deciduous forest', 'East Madagascar'], ['Ironwood Forest', 'George Town', 'Grand Cayman'], ['Sabah', 'Sarawak', 'Peninsular Malaysia', 'Kalimantan', 'Sumatra', 'Indonesia'], ['Breeds on Plateuau des Tourbières', 'Amsterdam Island', 'Indian Ocean'], ['Oshoek area', 'Mpumalanga', 'South Africa'], ['Kasyoha-Kitomi Forest Reserve', 'Uganda'], ['Siangau Forest Reserve', 'Sabah', 'Malaysia'], ['Hula Valley', 'Israel'], ['Mauritius'], ['Grand Bassin', 'Mauritius'], ['Massif de la Hotte', 'Haiti'], ['Formon and Macaya peaks', 'Masif de la Hotte', 'Haiti'], ['Pta Molles and Pichidungui', 'Chile'], ['Namatimbili-Ngarama Forest', 'Tanzania'], ['Witu Forest Reserve', 'Kenya'], ['Breeds in Russia', 'migrates along the East Asian-Australasian Flyway to wintering grounds in India', 'Bangladesh', 'Myanmar'], ['Kasyoha-Kitomi Forest Reserve', 'Ishasha River', 'Uganda'], ['Breeds in Morocco', 'Turkey', 'Syria; winters in central Ethiopia'], ['Kaya Muhaka', 'Gongoni and Mrima Forest Reserves', 'Kenya; Amani Nature Reserve', 'West Kilombero Scarp Forest Reserve', 'Kihansi Gorge', 'Tanzania'], ['Lake Ohrid', 'Macedonia'], ['Table Mountain', 'Western Cape Province', 'South Africa'], ['Jandia peninsula', 'Fuerteventura', 'Canary Islands'], ['Liben Plains', 'southern Ethiopia'], ['Kalalau Valley', 'Hawaii'], ['Russian and Japanese rivers', 'Pacific Ocean between Russia and Japan'], ['Bukit Timah Nature Reserve and streamlet near Bukit Batok', 'Singapore'], ['Outskirts of Belin village', 'Antalya', 'Turkey'], ['Coromandel peninsula and Whareorino Forest', 'New Zealand'], ['Harrison County', 'Mississippi', 'USA'], ['Quang Binh', 'Quang Tri', 'Thua Thien-Hue', 'Vietnam'], ['Risaralda', 'Colombia'], ['Oued Denna', 'Oued Abid', 'Oued Beth', 'Morocco'], ['Silhouette Island', 'Seychelles'], ['Cueva La Barca', 'Isle of Pines', 'Cuba'], ['Mount Victoria', 'Palawan', 'Philippines'], ['Hainan Island', 'China'], ['Zagros Mountains', 'Lorestan', 'Iran'], ['Mulanje Plateau', 'Malawi'], ['Chao Phraya and Mekong basins in Cambodia', 'China', 'Lao PDR', 'Thailand', 'Vietnam'], ['Cerrado', 'Brazil'], ['Northern Gulf of California', 'Mexico'], ['Qinling Range', 'China'], ['Qiaojia', 'Yunnan', 'China'], ['Nandyal and Giddalur', 'Andhra Pradesh', 'India'], ['Fatu Hiva', 'Marquesas Islands', 'French Polynesia'], ['Coastal tropical and subtropical waters of Indo-Pacific and Atlantic Oceans'], ['Maroantsetra to Andapa basin', 'Marojeju Massif', 'Madagascar'], ['Western Cape Province', 'South Africa'], ['Annamite mountains', 'Viet Nam - Laos PDR border'], ['Mauritius'], ['Beydaglari range', 'Antalaya', 'Turkey'], ['Hoan Kiem Lake', 'Dong Mo Lake', 'Viet Nam', 'Suzhou Zoo', 'China'], ['Ujung Kulon National Park', 'Java', 'Indonesia'], ['Northeastern Vietnam'], ['Western Australia', 'Australia'], ['Boni-Dodori Forest', 'Lamu area', 'Kenya'], ['Rivulet beside the Kawasan River', 'Cebu', 'Philippines'], ['St Katherine Mountains', 'Egypt'], ['Marshes of Lake Alaotra', 'Madagascar'], ['Sierra Nevada de Santa Marta', 'Colombia']]\n"
     ]
    }
   ],
   "source": [
    "print(locations_list)"
   ]
  },
  {
   "cell_type": "code",
   "execution_count": 109,
   "metadata": {},
   "outputs": [
    {
     "name": "stdout",
     "output_type": "stream",
     "text": [
      "89\n"
     ]
    }
   ],
   "source": [
    "#shape of locations_list\n",
    "print(len(locations_list))"
   ]
  },
  {
   "cell_type": "code",
   "execution_count": 110,
   "metadata": {},
   "outputs": [],
   "source": [
    "# append it to the species dataframe new coulumn\n",
    "species = species.copy()\n",
    "species['location_list'] = locations_list\n"
   ]
  },
  {
   "cell_type": "code",
   "execution_count": 111,
   "metadata": {},
   "outputs": [
    {
     "data": {
      "text/html": [
       "<div>\n",
       "<style scoped>\n",
       "    .dataframe tbody tr th:only-of-type {\n",
       "        vertical-align: middle;\n",
       "    }\n",
       "\n",
       "    .dataframe tbody tr th {\n",
       "        vertical-align: top;\n",
       "    }\n",
       "\n",
       "    .dataframe thead th {\n",
       "        text-align: right;\n",
       "    }\n",
       "</style>\n",
       "<table border=\"1\" class=\"dataframe\">\n",
       "  <thead>\n",
       "    <tr style=\"text-align: right;\">\n",
       "      <th></th>\n",
       "      <th>species_id</th>\n",
       "      <th>Species Name</th>\n",
       "      <th>Common Name</th>\n",
       "      <th>Type</th>\n",
       "      <th>Location(s)</th>\n",
       "      <th>Estimated Population</th>\n",
       "      <th>Threats</th>\n",
       "      <th>location_list</th>\n",
       "    </tr>\n",
       "  </thead>\n",
       "  <tbody>\n",
       "    <tr>\n",
       "      <th>0</th>\n",
       "      <td>0</td>\n",
       "      <td>Abies beshanzuensis</td>\n",
       "      <td>Baishan fir</td>\n",
       "      <td>Plant (Tree)</td>\n",
       "      <td>Baishanzu Mountain, Zhejiang, China</td>\n",
       "      <td>5 mature individuals</td>\n",
       "      <td>Agriculture, fire</td>\n",
       "      <td>[Baishanzu Mountain, Zhejiang, China]</td>\n",
       "    </tr>\n",
       "    <tr>\n",
       "      <th>1</th>\n",
       "      <td>1</td>\n",
       "      <td>Actinote zikani</td>\n",
       "      <td>-</td>\n",
       "      <td>Insect</td>\n",
       "      <td>Near São Paulo, Atlantic forest, Brazil</td>\n",
       "      <td>Unknown</td>\n",
       "      <td>Habitat loss from human expansion</td>\n",
       "      <td>[Near São Paulo, Atlantic forest, Brazil]</td>\n",
       "    </tr>\n",
       "    <tr>\n",
       "      <th>2</th>\n",
       "      <td>2</td>\n",
       "      <td>Aipysurus foliosquama</td>\n",
       "      <td>Leaf scaled sea-snake</td>\n",
       "      <td>Reptile</td>\n",
       "      <td>Ashmore Reef and Hibernia Reef, Timor Sea</td>\n",
       "      <td>Unknown</td>\n",
       "      <td>Unknown—probably degradation of coral reef hab...</td>\n",
       "      <td>[Ashmore Reef and Hibernia Reef, Timor Sea]</td>\n",
       "    </tr>\n",
       "    <tr>\n",
       "      <th>3</th>\n",
       "      <td>3</td>\n",
       "      <td>Amanipodagrion gilliesi</td>\n",
       "      <td>Amani flatwing</td>\n",
       "      <td>Insect</td>\n",
       "      <td>Amani-Sigi Forest, Usambara Mountains, Tanzania</td>\n",
       "      <td>&lt; 500 individuals</td>\n",
       "      <td>Population pressure, water pollution</td>\n",
       "      <td>[Amani-Sigi Forest, Usambara Mountains, Tanzania]</td>\n",
       "    </tr>\n",
       "    <tr>\n",
       "      <th>4</th>\n",
       "      <td>4</td>\n",
       "      <td>Antisolabis seychellensis</td>\n",
       "      <td>-</td>\n",
       "      <td>Insect</td>\n",
       "      <td>Morne Blanc, Mahé island, Seychelles</td>\n",
       "      <td>Unknown</td>\n",
       "      <td>Invasive species, climate change</td>\n",
       "      <td>[Morne Blanc, Mahé island, Seychelles]</td>\n",
       "    </tr>\n",
       "  </tbody>\n",
       "</table>\n",
       "</div>"
      ],
      "text/plain": [
       "   species_id               Species Name            Common Name          Type  \\\n",
       "0           0        Abies beshanzuensis            Baishan fir  Plant (Tree)   \n",
       "1           1            Actinote zikani                      -        Insect   \n",
       "2           2      Aipysurus foliosquama  Leaf scaled sea-snake       Reptile   \n",
       "3           3    Amanipodagrion gilliesi         Amani flatwing        Insect   \n",
       "4           4  Antisolabis seychellensis                      -        Insect   \n",
       "\n",
       "                                       Location(s)  Estimated Population  \\\n",
       "0              Baishanzu Mountain, Zhejiang, China  5 mature individuals   \n",
       "1          Near São Paulo, Atlantic forest, Brazil               Unknown   \n",
       "2        Ashmore Reef and Hibernia Reef, Timor Sea               Unknown   \n",
       "3  Amani-Sigi Forest, Usambara Mountains, Tanzania     < 500 individuals   \n",
       "4             Morne Blanc, Mahé island, Seychelles               Unknown   \n",
       "\n",
       "                                             Threats  \\\n",
       "0                                  Agriculture, fire   \n",
       "1                  Habitat loss from human expansion   \n",
       "2  Unknown—probably degradation of coral reef hab...   \n",
       "3               Population pressure, water pollution   \n",
       "4                   Invasive species, climate change   \n",
       "\n",
       "                                       location_list  \n",
       "0              [Baishanzu Mountain, Zhejiang, China]  \n",
       "1          [Near São Paulo, Atlantic forest, Brazil]  \n",
       "2        [Ashmore Reef and Hibernia Reef, Timor Sea]  \n",
       "3  [Amani-Sigi Forest, Usambara Mountains, Tanzania]  \n",
       "4             [Morne Blanc, Mahé island, Seychelles]  "
      ]
     },
     "execution_count": 111,
     "metadata": {},
     "output_type": "execute_result"
    }
   ],
   "source": [
    "species.head()"
   ]
  },
  {
   "cell_type": "code",
   "execution_count": 41,
   "metadata": {},
   "outputs": [
    {
     "name": "stdout",
     "output_type": "stream",
     "text": [
      "['Unknown']\n",
      "['Oregon and California']\n",
      "[\"Côte d'Ivoire\"]\n",
      "['Mauritius']\n",
      "['Coastal tropical and subtropical waters of Indo-Pacific and Atlantic Oceans']\n",
      "['Mauritius']\n",
      "['Northeastern Vietnam']\n"
     ]
    }
   ],
   "source": [
    "# show me the lsit of locations with 1 item in the list\n",
    "for location in locations_list:\n",
    "    if len(location) == 1:\n",
    "        print(location)\n"
   ]
  },
  {
   "cell_type": "code",
   "execution_count": 47,
   "metadata": {},
   "outputs": [],
   "source": [
    "#drop unknown locations\n",
    "\n",
    "species = species[species['Location(s)'] != 'Unknown']"
   ]
  },
  {
   "cell_type": "code",
   "execution_count": 49,
   "metadata": {},
   "outputs": [
    {
     "name": "stdout",
     "output_type": "stream",
     "text": [
      "['Ashmore Reef and Hibernia Reef', 'Timor Sea']\n",
      "['South-eastern shore of former Lake Aci', 'Turkey']\n",
      "['Baly Bay region', 'northwestern Madagascar']\n",
      "['Volcanic lakes north of Bealanana', 'Madagascar']\n",
      "['Chinese coast from Yangtze River', 'China to Hong Kong']\n",
      "['Budini and Lafeti Khola', 'Bhutan']\n",
      "['South-east Kenya', 'possibly south-west Somalia']\n",
      "['Atlantic forest', 'south-eastern Brazil']\n",
      "['Isla Escudo de Veraguas', 'Panama']\n",
      "['Pool on Gavdos', 'Greece']\n",
      "[\"Anosibe An'Ala region\", 'eastern Madagascar']\n",
      "['Two small caves on Silhouette and Mahé', 'Seychelles']\n",
      "['Pembrokeshire', 'United Kingdom']\n",
      "['Hellshire Hills', 'Jamaica']\n",
      "['Deciduous forest', 'East Madagascar']\n",
      "['Kasyoha-Kitomi Forest Reserve', 'Uganda']\n",
      "['Hula Valley', 'Israel']\n",
      "['Grand Bassin', 'Mauritius']\n",
      "['Massif de la Hotte', 'Haiti']\n",
      "['Pta Molles and Pichidungui', 'Chile']\n",
      "['Namatimbili-Ngarama Forest', 'Tanzania']\n",
      "['Witu Forest Reserve', 'Kenya']\n",
      "['Lake Ohrid', 'Macedonia']\n",
      "['Liben Plains', 'southern Ethiopia']\n",
      "['Kalalau Valley', 'Hawaii']\n",
      "['Russian and Japanese rivers', 'Pacific Ocean between Russia and Japan']\n",
      "['Bukit Timah Nature Reserve and streamlet near Bukit Batok', 'Singapore']\n",
      "['Coromandel peninsula and Whareorino Forest', 'New Zealand']\n",
      "['Risaralda', 'Colombia']\n",
      "['Silhouette Island', 'Seychelles']\n",
      "['Hainan Island', 'China']\n",
      "['Mulanje Plateau', 'Malawi']\n",
      "['Cerrado', 'Brazil']\n",
      "['Northern Gulf of California', 'Mexico']\n",
      "['Qinling Range', 'China']\n",
      "['Western Cape Province', 'South Africa']\n",
      "['Annamite mountains', 'Viet Nam - Laos PDR border']\n",
      "['Western Australia', 'Australia']\n",
      "['St Katherine Mountains', 'Egypt']\n",
      "['Marshes of Lake Alaotra', 'Madagascar']\n",
      "['Sierra Nevada de Santa Marta', 'Colombia']\n"
     ]
    }
   ],
   "source": [
    "for location in locations_list:\n",
    "    if len(location) == 2:\n",
    "        print(location)"
   ]
  },
  {
   "cell_type": "code",
   "execution_count": 48,
   "metadata": {},
   "outputs": [
    {
     "name": "stdout",
     "output_type": "stream",
     "text": [
      "(88, 8)\n"
     ]
    }
   ],
   "source": [
    "print(species.shape)"
   ]
  },
  {
   "cell_type": "code",
   "execution_count": null,
   "metadata": {},
   "outputs": [],
   "source": []
  },
  {
   "cell_type": "code",
   "execution_count": null,
   "metadata": {},
   "outputs": [
    {
     "ename": "IndexError",
     "evalue": "list index out of range",
     "output_type": "error",
     "traceback": [
      "\u001b[1;31m---------------------------------------------------------------------------\u001b[0m",
      "\u001b[1;31mIndexError\u001b[0m                                Traceback (most recent call last)",
      "Cell \u001b[1;32mIn[40], line 14\u001b[0m\n\u001b[0;32m     12\u001b[0m \u001b[38;5;28;01melse\u001b[39;00m:\n\u001b[0;32m     13\u001b[0m     regions\u001b[38;5;241m.\u001b[39mappend(location[\u001b[38;5;241m0\u001b[39m])\n\u001b[1;32m---> 14\u001b[0m     cities\u001b[38;5;241m.\u001b[39mappend(location[\u001b[38;5;241m1\u001b[39m])\n\u001b[0;32m     15\u001b[0m     countries\u001b[38;5;241m.\u001b[39mappend(location[\u001b[38;5;241m2\u001b[39m])\n",
      "\u001b[1;31mIndexError\u001b[0m: list index out of range"
     ]
    }
   ],
   "source": [
    "# for each item in the list in location_list, create a column region, city, country\n",
    "regions = []\n",
    "cities = []\n",
    "countries = []\n",
    "\n",
    "# handle cases with different lengths of location list\n",
    "for location in locations_list:\n",
    "    if len(location) == 2:\n",
    "        regions.append(location[0])\n",
    "        cities.append('')\n",
    "        countries.append(location[1])\n",
    "    elif len(location) == 3:\n",
    "        regions.append(location[0])\n",
    "        cities.append(location[1])\n",
    "        countries.append(location[2])\n",
    "    else:\n",
    "        regions.append(location[0])\n",
    "        cities.append(location[1] if len(location) > 1 else '')\n",
    "        countries.append(location[2] if len(location) > 2 else '')\n"
   ]
    "# for location in locations_list:\n",
    "#     regions.append(location[0])\n",
    "#     cities.append(location[1])\n",
    "#     countries.append(location[2])\n",
    "\n",
    "# species['region'] = regions\n",
    "# species['city'] = cities\n",
    "# species['country'] = countries\n"
   ]
  },
  {
   "cell_type": "code",
   "execution_count": 113,
   "metadata": {},
   "outputs": [
    {
     "data": {
      "text/html": [
       "<div>\n",
       "<style scoped>\n",
       "    .dataframe tbody tr th:only-of-type {\n",
       "        vertical-align: middle;\n",
       "    }\n",
       "\n",
       "    .dataframe tbody tr th {\n",
       "        vertical-align: top;\n",
       "    }\n",
       "\n",
       "    .dataframe thead th {\n",
       "        text-align: right;\n",
       "    }\n",
       "</style>\n",
       "<table border=\"1\" class=\"dataframe\">\n",
       "  <thead>\n",
       "    <tr style=\"text-align: right;\">\n",
       "      <th></th>\n",
       "      <th>species_id</th>\n",
       "      <th>Species Name</th>\n",
       "      <th>Common Name</th>\n",
       "      <th>Type</th>\n",
       "      <th>Location(s)</th>\n",
       "      <th>Estimated Population</th>\n",
       "      <th>Threats</th>\n",
       "      <th>location_list</th>\n",
       "      <th>threats_list</th>\n",
       "    </tr>\n",
       "  </thead>\n",
       "  <tbody>\n",
       "    <tr>\n",
       "      <th>0</th>\n",
       "      <td>0</td>\n",
       "      <td>Abies beshanzuensis</td>\n",
       "      <td>Baishan fir</td>\n",
       "      <td>Plant (Tree)</td>\n",
       "      <td>Baishanzu Mountain, Zhejiang, China</td>\n",
       "      <td>5 mature individuals</td>\n",
       "      <td>Agriculture, fire</td>\n",
       "      <td>[Baishanzu Mountain, Zhejiang, China]</td>\n",
       "      <td>[Agriculture, fire]</td>\n",
       "    </tr>\n",
       "    <tr>\n",
       "      <th>1</th>\n",
       "      <td>1</td>\n",
       "      <td>Actinote zikani</td>\n",
       "      <td>-</td>\n",
       "      <td>Insect</td>\n",
       "      <td>Near São Paulo, Atlantic forest, Brazil</td>\n",
       "      <td>Unknown</td>\n",
       "      <td>Habitat loss from human expansion</td>\n",
       "      <td>[Near São Paulo, Atlantic forest, Brazil]</td>\n",
       "      <td>[Habitat loss from human expansion]</td>\n",
       "    </tr>\n",
       "    <tr>\n",
       "      <th>2</th>\n",
       "      <td>2</td>\n",
       "      <td>Aipysurus foliosquama</td>\n",
       "      <td>Leaf scaled sea-snake</td>\n",
       "      <td>Reptile</td>\n",
       "      <td>Ashmore Reef and Hibernia Reef, Timor Sea</td>\n",
       "      <td>Unknown</td>\n",
       "      <td>Unknown—probably degradation of coral reef hab...</td>\n",
       "      <td>[Ashmore Reef and Hibernia Reef, Timor Sea]</td>\n",
       "      <td>[Unknown—probably degradation of coral reef ha...</td>\n",
       "    </tr>\n",
       "    <tr>\n",
       "      <th>3</th>\n",
       "      <td>3</td>\n",
       "      <td>Amanipodagrion gilliesi</td>\n",
       "      <td>Amani flatwing</td>\n",
       "      <td>Insect</td>\n",
       "      <td>Amani-Sigi Forest, Usambara Mountains, Tanzania</td>\n",
       "      <td>&lt; 500 individuals</td>\n",
       "      <td>Population pressure, water pollution</td>\n",
       "      <td>[Amani-Sigi Forest, Usambara Mountains, Tanzania]</td>\n",
       "      <td>[Population pressure, water pollution]</td>\n",
       "    </tr>\n",
       "    <tr>\n",
       "      <th>4</th>\n",
       "      <td>4</td>\n",
       "      <td>Antisolabis seychellensis</td>\n",
       "      <td>-</td>\n",
       "      <td>Insect</td>\n",
       "      <td>Morne Blanc, Mahé island, Seychelles</td>\n",
       "      <td>Unknown</td>\n",
       "      <td>Invasive species, climate change</td>\n",
       "      <td>[Morne Blanc, Mahé island, Seychelles]</td>\n",
       "      <td>[Invasive species, climate change]</td>\n",
       "    </tr>\n",
       "  </tbody>\n",
       "</table>\n",
       "</div>"
      ],
      "text/plain": [
       "   species_id               Species Name            Common Name          Type  \\\n",
       "0           0        Abies beshanzuensis            Baishan fir  Plant (Tree)   \n",
       "1           1            Actinote zikani                      -        Insect   \n",
       "2           2      Aipysurus foliosquama  Leaf scaled sea-snake       Reptile   \n",
       "3           3    Amanipodagrion gilliesi         Amani flatwing        Insect   \n",
       "4           4  Antisolabis seychellensis                      -        Insect   \n",
       "\n",
       "                                       Location(s)  Estimated Population  \\\n",
       "0              Baishanzu Mountain, Zhejiang, China  5 mature individuals   \n",
       "1          Near São Paulo, Atlantic forest, Brazil               Unknown   \n",
       "2        Ashmore Reef and Hibernia Reef, Timor Sea               Unknown   \n",
       "3  Amani-Sigi Forest, Usambara Mountains, Tanzania     < 500 individuals   \n",
       "4             Morne Blanc, Mahé island, Seychelles               Unknown   \n",
       "\n",
       "                                             Threats  \\\n",
       "0                                  Agriculture, fire   \n",
       "1                  Habitat loss from human expansion   \n",
       "2  Unknown—probably degradation of coral reef hab...   \n",
       "3               Population pressure, water pollution   \n",
       "4                   Invasive species, climate change   \n",
       "\n",
       "                                       location_list  \\\n",
       "0              [Baishanzu Mountain, Zhejiang, China]   \n",
       "1          [Near São Paulo, Atlantic forest, Brazil]   \n",
       "2        [Ashmore Reef and Hibernia Reef, Timor Sea]   \n",
       "3  [Amani-Sigi Forest, Usambara Mountains, Tanzania]   \n",
       "4             [Morne Blanc, Mahé island, Seychelles]   \n",
       "\n",
       "                                        threats_list  \n",
       "0                                [Agriculture, fire]  \n",
       "1                [Habitat loss from human expansion]  \n",
       "2  [Unknown—probably degradation of coral reef ha...  \n",
       "3             [Population pressure, water pollution]  \n",
       "4                 [Invasive species, climate change]  "
      ]
     },
     "execution_count": 113,
     "metadata": {},
     "output_type": "execute_result"
    }
   ],
   "source": [
    "# split threats into a list\n",
    "species['threats_list'] = species['Threats'].apply(lambda x: x.split(', '))\n",
    "\n",
    "species.head()"
   ]
  },
  {
   "cell_type": "code",
   "execution_count": 114,
   "metadata": {},
   "outputs": [
    {
     "name": "stdout",
     "output_type": "stream",
     "text": [
      "   species_id           Species Name            Common Name     Type  \\\n",
      "2           2  Aipysurus foliosquama  Leaf scaled sea-snake  Reptile   \n",
      "\n",
      "                                 Location(s) Estimated Population  \\\n",
      "2  Ashmore Reef and Hibernia Reef, Timor Sea              Unknown   \n",
      "\n",
      "                                             Threats  \\\n",
      "2  Unknown—probably degradation of coral reef hab...   \n",
      "\n",
      "                                 location_list  \\\n",
      "2  [Ashmore Reef and Hibernia Reef, Timor Sea]   \n",
      "\n",
      "                                        threats_list  \n",
      "2  [Unknown—probably degradation of coral reef ha...  \n"
     ]
    }
   ],
   "source": [
    "def regionToSpecies(region):\n",
    "    return species[species['location_list'].apply(lambda x: region in x)]\n",
    "\n",
    "print(regionToSpecies('Timor Sea'))"
   ]
  },
  {
   "cell_type": "code",
   "execution_count": 115,
   "metadata": {},
   "outputs": [
    {
     "name": "stdout",
     "output_type": "stream",
     "text": [
      "        city city_ascii      lat       lng    country iso2 iso3   admin_name  \\\n",
      "0      Tokyo      Tokyo  35.6897  139.6922      Japan   JP  JPN        Tōkyō   \n",
      "1    Jakarta    Jakarta  -6.1750  106.8275  Indonesia   ID  IDN      Jakarta   \n",
      "2      Delhi      Delhi  28.6100   77.2300      India   IN  IND        Delhi   \n",
      "3  Guangzhou  Guangzhou  23.1300  113.2600      China   CN  CHN    Guangdong   \n",
      "4     Mumbai     Mumbai  19.0761   72.8775      India   IN  IND  Mahārāshtra   \n",
      "\n",
      "   capital  population          id  \n",
      "0  primary  37732000.0  1392685764  \n",
      "1  primary  33756000.0  1360771077  \n",
      "2    admin  32226000.0  1356872604  \n",
      "3    admin  26940000.0  1156237133  \n",
      "4    admin  24973000.0  1356226629  \n"
     ]
    },
    {
     "data": {
      "text/html": [
       "<div>\n",
       "<style scoped>\n",
       "    .dataframe tbody tr th:only-of-type {\n",
       "        vertical-align: middle;\n",
       "    }\n",
       "\n",
       "    .dataframe tbody tr th {\n",
       "        vertical-align: top;\n",
       "    }\n",
       "\n",
       "    .dataframe thead th {\n",
       "        text-align: right;\n",
       "    }\n",
       "</style>\n",
       "<table border=\"1\" class=\"dataframe\">\n",
       "  <thead>\n",
       "    <tr style=\"text-align: right;\">\n",
       "      <th></th>\n",
       "      <th>Country Name</th>\n",
       "      <th>Latitude</th>\n",
       "      <th>Longitude</th>\n",
       "    </tr>\n",
       "  </thead>\n",
       "  <tbody>\n",
       "    <tr>\n",
       "      <th>0</th>\n",
       "      <td>Andorra</td>\n",
       "      <td>42.546245</td>\n",
       "      <td>1.601554</td>\n",
       "    </tr>\n",
       "    <tr>\n",
       "      <th>1</th>\n",
       "      <td>United Arab Emirates</td>\n",
       "      <td>23.424076</td>\n",
       "      <td>53.847818</td>\n",
       "    </tr>\n",
       "    <tr>\n",
       "      <th>2</th>\n",
       "      <td>Afghanistan</td>\n",
       "      <td>33.939110</td>\n",
       "      <td>67.709953</td>\n",
       "    </tr>\n",
       "    <tr>\n",
       "      <th>3</th>\n",
       "      <td>Antigua and Barbuda</td>\n",
       "      <td>17.060816</td>\n",
       "      <td>-61.796428</td>\n",
       "    </tr>\n",
       "    <tr>\n",
       "      <th>4</th>\n",
       "      <td>Anguilla</td>\n",
       "      <td>18.220554</td>\n",
       "      <td>-63.068615</td>\n",
       "    </tr>\n",
       "  </tbody>\n",
       "</table>\n",
       "</div>"
      ],
      "text/plain": [
       "           Country Name   Latitude  Longitude\n",
       "0               Andorra  42.546245   1.601554\n",
       "1  United Arab Emirates  23.424076  53.847818\n",
       "2           Afghanistan  33.939110  67.709953\n",
       "3   Antigua and Barbuda  17.060816 -61.796428\n",
       "4              Anguilla  18.220554 -63.068615"
      ]
     },
     "execution_count": 115,
     "metadata": {},
     "output_type": "execute_result"
    }
   ],
   "source": [
    "# import wolrdcities csv\n",
    "worldcities = pd.read_csv('worldcities.csv')\n",
    "\n",
    "print(worldcities.head())\n",
    "\n",
    "# get countries coordinates\n",
    "worldcities = pd.read_csv('countries.csv')\n",
    "countries = worldcities[['Country Name', 'Latitude', 'Longitude']]\n",
    "\n",
    "countries.head()"
   ]
  },
  {
   "cell_type": "code",
   "execution_count": 116,
   "metadata": {},
   "outputs": [
    {
     "name": "stdout",
     "output_type": "stream",
     "text": [
      "(25.7033, -99.2365)\n",
      "(39.9067, 116.3975)\n",
      "(-23.55, -46.6333)\n"
     ]
    }
   ],
   "source": [
    "import pandas as pd\n",
    "\n",
    "# Load the worldcities.csv file into a DataFrame\n",
    "worldcities = pd.read_csv('worldcities.csv')\n",
    "\n",
    "# Assuming 'countries' DataFrame is already defined\n",
    "# Example structure:\n",
    "# countries = pd.DataFrame({'Country Name': ['China', 'Brazil'], 'Latitude': [35.86166, -14.235004], 'Longitude': [104.195397, -51.92528]})\n",
    "\n",
    "def getCountryCoordinates(country):\n",
    "    try:\n",
    "        country_data = countries[countries['Country Name'] == country]\n",
    "        if not country_data.empty:\n",
    "            return country_data.iloc[0]['Latitude'], country_data.iloc[0]['Longitude']\n",
    "        else:\n",
    "            return None\n",
    "    except Exception as e:\n",
    "        print(f\"Error getting country coordinates: {e}\")\n",
    "        return None\n",
    "\n",
    "def getCityCoordinates(city):\n",
    "    try:\n",
    "        city_data = worldcities[worldcities['city'] == city]\n",
    "        if not city_data.empty:\n",
    "            return city_data.iloc[0]['lat'], city_data.iloc[0]['lng']\n",
    "        else:\n",
    "            return None\n",
    "    except Exception as e:\n",
    "        print(f\"Error getting city coordinates: {e}\")\n",
    "        return None\n",
    "\n",
    "def getRegionCoordinates(region):\n",
    "    # Try to get city coordinates first\n",
    "    city_coords = getCityCoordinates(region)\n",
    "    if city_coords:\n",
    "        return city_coords\n",
    "    else:\n",
    "        print('City not found, trying country coordinates')\n",
    "        return getCountryCoordinates(region)\n",
    "\n",
    "# Example usage\n",
    "print(getRegionCoordinates('China'))\n",
    "print(getRegionCoordinates('Beijing'))\n",
    "print(getRegionCoordinates('São Paulo'))"
   ]
  },
  {
   "cell_type": "code",
   "execution_count": 117,
   "metadata": {},
   "outputs": [
    {
     "data": {
      "text/html": [
       "<div>\n",
       "<style scoped>\n",
       "    .dataframe tbody tr th:only-of-type {\n",
       "        vertical-align: middle;\n",
       "    }\n",
       "\n",
       "    .dataframe tbody tr th {\n",
       "        vertical-align: top;\n",
       "    }\n",
       "\n",
       "    .dataframe thead th {\n",
       "        text-align: right;\n",
       "    }\n",
       "</style>\n",
       "<table border=\"1\" class=\"dataframe\">\n",
       "  <thead>\n",
       "    <tr style=\"text-align: right;\">\n",
       "      <th></th>\n",
       "      <th>species_id</th>\n",
       "      <th>Species Name</th>\n",
       "      <th>Common Name</th>\n",
       "      <th>Type</th>\n",
       "      <th>Location(s)</th>\n",
       "      <th>Estimated Population</th>\n",
       "      <th>Threats</th>\n",
       "      <th>location_list</th>\n",
       "      <th>threats_list</th>\n",
       "      <th>location_coordinates</th>\n",
       "    </tr>\n",
       "  </thead>\n",
       "  <tbody>\n",
       "    <tr>\n",
       "      <th>0</th>\n",
       "      <td>0</td>\n",
       "      <td>Abies beshanzuensis</td>\n",
       "      <td>Baishan fir</td>\n",
       "      <td>Plant (Tree)</td>\n",
       "      <td>Baishanzu Mountain, Zhejiang, China</td>\n",
       "      <td>5 mature individuals</td>\n",
       "      <td>Agriculture, fire</td>\n",
       "      <td>[Baishanzu Mountain, Zhejiang, China]</td>\n",
       "      <td>[Agriculture, fire]</td>\n",
       "      <td>(25.7033, -99.2365)</td>\n",
       "    </tr>\n",
       "    <tr>\n",
       "      <th>1</th>\n",
       "      <td>1</td>\n",
       "      <td>Actinote zikani</td>\n",
       "      <td>-</td>\n",
       "      <td>Insect</td>\n",
       "      <td>Near São Paulo, Atlantic forest, Brazil</td>\n",
       "      <td>Unknown</td>\n",
       "      <td>Habitat loss from human expansion</td>\n",
       "      <td>[Near São Paulo, Atlantic forest, Brazil]</td>\n",
       "      <td>[Habitat loss from human expansion]</td>\n",
       "      <td>(-14.235004, -51.92528)</td>\n",
       "    </tr>\n",
       "    <tr>\n",
       "      <th>2</th>\n",
       "      <td>2</td>\n",
       "      <td>Aipysurus foliosquama</td>\n",
       "      <td>Leaf scaled sea-snake</td>\n",
       "      <td>Reptile</td>\n",
       "      <td>Ashmore Reef and Hibernia Reef, Timor Sea</td>\n",
       "      <td>Unknown</td>\n",
       "      <td>Unknown—probably degradation of coral reef hab...</td>\n",
       "      <td>[Ashmore Reef and Hibernia Reef, Timor Sea]</td>\n",
       "      <td>[Unknown—probably degradation of coral reef ha...</td>\n",
       "      <td>None</td>\n",
       "    </tr>\n",
       "    <tr>\n",
       "      <th>3</th>\n",
       "      <td>3</td>\n",
       "      <td>Amanipodagrion gilliesi</td>\n",
       "      <td>Amani flatwing</td>\n",
       "      <td>Insect</td>\n",
       "      <td>Amani-Sigi Forest, Usambara Mountains, Tanzania</td>\n",
       "      <td>&lt; 500 individuals</td>\n",
       "      <td>Population pressure, water pollution</td>\n",
       "      <td>[Amani-Sigi Forest, Usambara Mountains, Tanzania]</td>\n",
       "      <td>[Population pressure, water pollution]</td>\n",
       "      <td>None</td>\n",
       "    </tr>\n",
       "    <tr>\n",
       "      <th>4</th>\n",
       "      <td>4</td>\n",
       "      <td>Antisolabis seychellensis</td>\n",
       "      <td>-</td>\n",
       "      <td>Insect</td>\n",
       "      <td>Morne Blanc, Mahé island, Seychelles</td>\n",
       "      <td>Unknown</td>\n",
       "      <td>Invasive species, climate change</td>\n",
       "      <td>[Morne Blanc, Mahé island, Seychelles]</td>\n",
       "      <td>[Invasive species, climate change]</td>\n",
       "      <td>(-4.679574, 55.491977)</td>\n",
       "    </tr>\n",
       "  </tbody>\n",
       "</table>\n",
       "</div>"
      ],
      "text/plain": [
       "   species_id               Species Name            Common Name          Type  \\\n",
       "0           0        Abies beshanzuensis            Baishan fir  Plant (Tree)   \n",
       "1           1            Actinote zikani                      -        Insect   \n",
       "2           2      Aipysurus foliosquama  Leaf scaled sea-snake       Reptile   \n",
       "3           3    Amanipodagrion gilliesi         Amani flatwing        Insect   \n",
       "4           4  Antisolabis seychellensis                      -        Insect   \n",
       "\n",
       "                                       Location(s)  Estimated Population  \\\n",
       "0              Baishanzu Mountain, Zhejiang, China  5 mature individuals   \n",
       "1          Near São Paulo, Atlantic forest, Brazil               Unknown   \n",
       "2        Ashmore Reef and Hibernia Reef, Timor Sea               Unknown   \n",
       "3  Amani-Sigi Forest, Usambara Mountains, Tanzania     < 500 individuals   \n",
       "4             Morne Blanc, Mahé island, Seychelles               Unknown   \n",
       "\n",
       "                                             Threats  \\\n",
       "0                                  Agriculture, fire   \n",
       "1                  Habitat loss from human expansion   \n",
       "2  Unknown—probably degradation of coral reef hab...   \n",
       "3               Population pressure, water pollution   \n",
       "4                   Invasive species, climate change   \n",
       "\n",
       "                                       location_list  \\\n",
       "0              [Baishanzu Mountain, Zhejiang, China]   \n",
       "1          [Near São Paulo, Atlantic forest, Brazil]   \n",
       "2        [Ashmore Reef and Hibernia Reef, Timor Sea]   \n",
       "3  [Amani-Sigi Forest, Usambara Mountains, Tanzania]   \n",
       "4             [Morne Blanc, Mahé island, Seychelles]   \n",
       "\n",
       "                                        threats_list     location_coordinates  \n",
       "0                                [Agriculture, fire]      (25.7033, -99.2365)  \n",
       "1                [Habitat loss from human expansion]  (-14.235004, -51.92528)  \n",
       "2  [Unknown—probably degradation of coral reef ha...                     None  \n",
       "3             [Population pressure, water pollution]                     None  \n",
       "4                 [Invasive species, climate change]   (-4.679574, 55.491977)  "
      ]
     },
     "execution_count": 117,
     "metadata": {},
     "output_type": "execute_result"
    }
   ],
   "source": [
    "# location_list has either country or city, try to find a matching city or country\n",
    "def parseSpeciesLocation():\n",
    "    location_coordinates = []\n",
    "    for locations in species['location_list']:\n",
    "        coords = None\n",
    "        for location in locations:\n",
    "            if location in worldcities['city'].values:\n",
    "                coords = getCityCoordinates(location)\n",
    "                break\n",
    "            elif location in countries['Country Name'].values:\n",
    "                coords = getCountryCoordinates(location)\n",
    "                break\n",
    "        location_coordinates.append(coords)\n",
    "    species['location_coordinates'] = location_coordinates\n",
    "\n",
    "# Example usage\n",
    "parseSpeciesLocation()\n",
    "species.head()"
   ]
  },
  {
   "cell_type": "code",
   "execution_count": null,
   "metadata": {},
   "outputs": [],
   "source": []
  }
 ],
 "metadata": {
  "kernelspec": {
   "display_name": "base",
   "language": "python",
   "name": "python3"
  },
  "language_info": {
   "codemirror_mode": {
    "name": "ipython",
    "version": 3
   },
   "file_extension": ".py",
   "mimetype": "text/x-python",
   "name": "python",
   "nbconvert_exporter": "python",
   "pygments_lexer": "ipython3",
   "version": "3.11.7"
  }
 },
 "nbformat": 4,
 "nbformat_minor": 2
}

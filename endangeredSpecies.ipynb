{
 "cells": [
  {
   "cell_type": "code",
   "execution_count": 197,
   "metadata": {},
   "outputs": [],
   "source": [
    "import pyspark as ps\n",
    "from pyspark.sql import SparkSession\n",
    "import pandas as pd\n",
    "import numpy as np\n"
   ]
  },
  {
   "cell_type": "code",
   "execution_count": 198,
   "metadata": {},
   "outputs": [],
   "source": [
    "species = pd.read_csv('species.csv')\n"
   ]
  },
  {
   "cell_type": "code",
   "execution_count": 199,
   "metadata": {},
   "outputs": [
    {
     "name": "stdout",
     "output_type": "stream",
     "text": [
      "   Unnamed: 0               Species Name            Common Name          Type  \\\n",
      "0           0        Abies beshanzuensis            Baishan fir  Plant (Tree)   \n",
      "1           1            Actinote zikani                      -        Insect   \n",
      "2           2      Aipysurus foliosquama  Leaf scaled sea-snake       Reptile   \n",
      "3           3    Amanipodagrion gilliesi         Amani flatwing        Insect   \n",
      "4           4  Antisolabis seychellensis                      -        Insect   \n",
      "\n",
      "                                       Location(s)  Estimated Population  \\\n",
      "0              Baishanzu Mountain, Zhejiang, China  5 mature individuals   \n",
      "1          Near São Paulo, Atlantic forest, Brazil               Unknown   \n",
      "2        Ashmore Reef and Hibernia Reef, Timor Sea               Unknown   \n",
      "3  Amani-Sigi Forest, Usambara Mountains, Tanzania     < 500 individuals   \n",
      "4             Morne Blanc, Mahé island, Seychelles               Unknown   \n",
      "\n",
      "                                             Threats  \n",
      "0                                  Agriculture, fire  \n",
      "1                  Habitat loss from human expansion  \n",
      "2  Unknown—probably degradation of coral reef hab...  \n",
      "3               Population pressure, water pollution  \n",
      "4                   Invasive species, climate change  \n"
     ]
    }
   ],
   "source": [
    "print(species.head())"
   ]
  },
  {
   "cell_type": "code",
   "execution_count": 200,
   "metadata": {},
   "outputs": [],
   "source": [
    "# change title for for first cell\n",
    "species.rename(columns = {'Unnamed: 0':'species_id'}, inplace = True)"
   ]
  },
  {
   "cell_type": "code",
   "execution_count": 201,
   "metadata": {},
   "outputs": [
    {
     "name": "stdout",
     "output_type": "stream",
     "text": [
      "   species_id         Species Name  Common Name          Type  \\\n",
      "0           0  Abies beshanzuensis  Baishan fir  Plant (Tree)   \n",
      "\n",
      "                           Location(s)  Estimated Population  \\\n",
      "0  Baishanzu Mountain, Zhejiang, China  5 mature individuals   \n",
      "\n",
      "             Threats  \n",
      "0  Agriculture, fire  \n"
     ]
    }
   ],
   "source": [
    "#print first row of species\n",
    "print(species.head(1))"
   ]
  },
  {
   "cell_type": "code",
   "execution_count": 202,
   "metadata": {},
   "outputs": [
    {
     "name": "stdout",
     "output_type": "stream",
     "text": [
      "(90, 7)\n"
     ]
    }
   ],
   "source": [
    "#number of rows\n",
    "\n",
    "print(species.shape)"
   ]
  },
  {
   "cell_type": "code",
   "execution_count": 203,
   "metadata": {},
   "outputs": [
    {
     "name": "stdout",
     "output_type": "stream",
     "text": [
      "['Agriculture, fire' 'Habitat loss from human expansion'\n",
      " 'Unknown—probably degradation of coral reef habitat'\n",
      " 'Population pressure, water pollution' 'Invasive species, climate change'\n",
      " 'Recreational facilities, water diversion'\n",
      " 'Competition, predation by Gambusia, road construction'\n",
      " 'Hunting, cave disturbance' 'Hydropower development'\n",
      " 'Agricultural development, energy transmission lines'\n",
      " 'Illegal collection for international pet trade'\n",
      " 'Chytridiomycosis, logging, agricultural expansion'\n",
      " 'Agriculture, hunting, fishing, introduced fish'\n",
      " 'Climate change, oceanographic changes related to the 1982/1983 El Nino'\n",
      " 'Over-fishing due to value of swim-bladder in traditional medicine'\n",
      " 'Illegal export to China' 'Forest clearance, overgrazing, development'\n",
      " 'Habitat loss, competition with livestock, poaching'\n",
      " 'Disease from commercial bees, habitat destruction and degradation'\n",
      " 'Large-scale deforestation and logging'\n",
      " 'Illegal logging of mangrove forests for firewood and construction, hunting'\n",
      " 'Habitat exploitation by livestock, modification of the pool by locals'\n",
      " 'Agriculture' 'Habitat disturbance, possible hunting, small population'\n",
      " 'Hunting, habitat loss'\n",
      " 'Habitat degradation, predation by invasive species' 'Limited habitat'\n",
      " 'Logging, cattle grazing, fire, agriculture'\n",
      " 'Habitat destruction, predation by introduced species'\n",
      " 'Poaching, limited habitat' 'Infrastructure development'\n",
      " 'Hunting (horn is used in traditional medicine)'\n",
      " 'Disease, incidental by-catch in long-line fishing'\n",
      " 'Collection for medicinal use'\n",
      " 'Agricultural activity, illegal tree felling, alluvial gold digging, small population'\n",
      " 'Logging of lowland forest, creation of industrial plantations'\n",
      " 'Predation by birds, range restriction due to habitat destruction'\n",
      " 'Encroachment by invasive plant species, habitat loss due to cannabis cultivation'\n",
      " 'Habitat degradation' 'Charcoal production, slash-and-burn agriculture'\n",
      " 'Collection of flowering plants'\n",
      " 'Limited habitat, small population size increase vulnerability'\n",
      " 'Illegal logging, agricultural expansion, infrastructure development'\n",
      " 'Trapping, land reclamation'\n",
      " 'Agriculture, illegal tree felling, alluvial gold digging'\n",
      " 'Habitat degradation and destruction, hunting'\n",
      " 'Timber extraction, agriculture, encroachment and development, predation by wild pigs'\n",
      " 'Increasing pollution levels, off-take of water, sedimentation events'\n",
      " 'Invasive plants, water abstraction'\n",
      " 'Overgrazing, trampling by goats and tourists'\n",
      " 'Agricultural expansion, overgrazing, fire suppression'\n",
      " 'Habitat degradation due to feral ungulates, competition with invasive plant species'\n",
      " 'Overfishing, damming, agriculture, other land use'\n",
      " 'Habitat degradation due to reduction in water quality and quantity'\n",
      " 'Urbanisation, over-grazing, conifer planting, road widening'\n",
      " 'Chytridiomycosis, predation by invasive species'\n",
      " 'Fungal disease, climate change, land-use changes'\n",
      " 'Habitat loss, hunting' 'Isolation of species, low regeneration rates'\n",
      " 'Pollution, development' 'Habitat loss, human disturbance' 'Poaching'\n",
      " 'Hunting' 'Illegal collection for pet trade'\n",
      " 'Habitat destruction and degradation due to drainage, agricultural expansion, exploitation of forest'\n",
      " 'Overfishing, collection for aquarium trade'\n",
      " 'Human expansion, limited range' \"Capture in fishermen's gillnets\"\n",
      " 'Destruction of forest' 'Limited distribution, small population size'\n",
      " 'Deforestation, firewood collection, civil unrest'\n",
      " 'Predation by introduced species (Rattus rattus and feral cats)'\n",
      " 'Exploitation has removed the species from 95% of its historical range'\n",
      " 'Hunting, habitat disturbance' 'Loss of habitat, destruction, predation'\n",
      " 'Habitat destruction, hunting'\n",
      " 'Development project, competition from invasive plant species'\n",
      " 'Climate change, habitat loss'\n",
      " 'Hunting for consumption, wetland destruction, pollution'\n",
      " 'Hunting for traditional medicine, small population size'\n",
      " 'Land clearance for agriculture, climate change, salinisation'\n",
      " 'Development causing habitat loss' 'Habitat degradation and destruction'\n",
      " 'Domestic animal grazing, climate change, drought, medicinal plant collecting, limited range'\n",
      " 'Loss of habitat' 'Urban development, coffee cultivation' nan]\n"
     ]
    }
   ],
   "source": [
    "#identify unique threats \n",
    "print(species.Threats.unique())"
   ]
  },
  {
   "cell_type": "code",
   "execution_count": 204,
   "metadata": {},
   "outputs": [],
   "source": [
    "# remove rows with threats as nan\n",
    "\n",
    "species = species.dropna(subset=['Threats'])"
   ]
  },
  {
   "cell_type": "code",
   "execution_count": 205,
   "metadata": {},
   "outputs": [
    {
     "name": "stdout",
     "output_type": "stream",
     "text": [
      "(89, 7)\n"
     ]
    }
   ],
   "source": [
    "print(species.shape)"
   ]
  },
  {
   "cell_type": "code",
   "execution_count": 206,
   "metadata": {},
   "outputs": [],
   "source": [
    "# gather all the unique regions\n",
    "locations = species['Location(s)']\n",
    "\n",
    "# create a list of all the unique regions\n",
    "locations_list = []\n",
    "for location in locations:\n",
    "    locations_list.append(location.split(', '))\n",
    "\n"
   ]
  },
  {
   "cell_type": "code",
   "execution_count": 207,
   "metadata": {},
   "outputs": [
    {
     "name": "stdout",
     "output_type": "stream",
     "text": [
      "[['Baishanzu Mountain', 'Zhejiang', 'China'], ['Near São Paulo', 'Atlantic forest', 'Brazil'], ['Ashmore Reef and Hibernia Reef', 'Timor Sea'], ['Amani-Sigi Forest', 'Usambara Mountains', 'Tanzania'], ['Morne Blanc', 'Mahé island', 'Seychelles'], ['Chapado do Araripe', 'South Ceará', 'Brazil'], ['South-eastern shore of former Lake Aci', 'Turkey'], ['Luplupwintern Cave', 'Western Province', 'Papua NG'], ['Bhutan', 'North East India', 'Myanmar'], ['Rajasthan', 'Gujarat', 'Maharashtra', 'India'], ['Baly Bay region', 'northwestern Madagascar'], ['Azuay', 'Cañar', 'Guyas provinces', 'Ecuador'], ['Volcanic lakes north of Bealanana', 'Madagascar'], ['Unknown'], ['Chinese coast from Yangtze River', 'China to Hong Kong'], ['Bangladesh', 'Cambodia', 'India', 'Indonesia', 'Malaysia'], ['Budini and Lafeti Khola', 'Bhutan'], ['South-east Kenya', 'possibly south-west Somalia'], ['Oregon and California'], ['Atlantic forest', 'south-eastern Brazil'], ['Isla Escudo de Veraguas', 'Panama'], ['Pool on Gavdos', 'Greece'], [\"Anosibe An'Ala region\", 'eastern Madagascar'], ['Moleques do Sul Island', 'Santa Catarina', 'Brazil'], [\"Côte d'Ivoire\"], ['Two small caves on Silhouette and Mahé', 'Seychelles'], ['Pembrokeshire', 'United Kingdom'], ['Volcán San Martín Tuxtla', 'Veracruz', 'Mexico'], ['Hellshire Hills', 'Jamaica'], ['Deciduous forest', 'East Madagascar'], ['Ironwood Forest', 'George Town', 'Grand Cayman'], ['Sabah', 'Sarawak', 'Peninsular Malaysia', 'Kalimantan', 'Sumatra', 'Indonesia'], ['Breeds on Plateuau des Tourbières', 'Amsterdam Island', 'Indian Ocean'], ['Oshoek area', 'Mpumalanga', 'South Africa'], ['Kasyoha-Kitomi Forest Reserve', 'Uganda'], ['Siangau Forest Reserve', 'Sabah', 'Malaysia'], ['Hula Valley', 'Israel'], ['Mauritius'], ['Grand Bassin', 'Mauritius'], ['Massif de la Hotte', 'Haiti'], ['Formon and Macaya peaks', 'Masif de la Hotte', 'Haiti'], ['Pta Molles and Pichidungui', 'Chile'], ['Namatimbili-Ngarama Forest', 'Tanzania'], ['Witu Forest Reserve', 'Kenya'], ['Breeds in Russia', 'migrates along the East Asian-Australasian Flyway to wintering grounds in India', 'Bangladesh', 'Myanmar'], ['Kasyoha-Kitomi Forest Reserve', 'Ishasha River', 'Uganda'], ['Breeds in Morocco', 'Turkey', 'Syria; winters in central Ethiopia'], ['Kaya Muhaka', 'Gongoni and Mrima Forest Reserves', 'Kenya; Amani Nature Reserve', 'West Kilombero Scarp Forest Reserve', 'Kihansi Gorge', 'Tanzania'], ['Lake Ohrid', 'Macedonia'], ['Table Mountain', 'Western Cape Province', 'South Africa'], ['Jandia peninsula', 'Fuerteventura', 'Canary Islands'], ['Liben Plains', 'southern Ethiopia'], ['Kalalau Valley', 'Hawaii'], ['Russian and Japanese rivers', 'Pacific Ocean between Russia and Japan'], ['Bukit Timah Nature Reserve and streamlet near Bukit Batok', 'Singapore'], ['Outskirts of Belin village', 'Antalya', 'Turkey'], ['Coromandel peninsula and Whareorino Forest', 'New Zealand'], ['Harrison County', 'Mississippi', 'USA'], ['Quang Binh', 'Quang Tri', 'Thua Thien-Hue', 'Vietnam'], ['Risaralda', 'Colombia'], ['Oued Denna', 'Oued Abid', 'Oued Beth', 'Morocco'], ['Silhouette Island', 'Seychelles'], ['Cueva La Barca', 'Isle of Pines', 'Cuba'], ['Mount Victoria', 'Palawan', 'Philippines'], ['Hainan Island', 'China'], ['Zagros Mountains', 'Lorestan', 'Iran'], ['Mulanje Plateau', 'Malawi'], ['Chao Phraya and Mekong basins in Cambodia', 'China', 'Lao PDR', 'Thailand', 'Vietnam'], ['Cerrado', 'Brazil'], ['Northern Gulf of California', 'Mexico'], ['Qinling Range', 'China'], ['Qiaojia', 'Yunnan', 'China'], ['Nandyal and Giddalur', 'Andhra Pradesh', 'India'], ['Fatu Hiva', 'Marquesas Islands', 'French Polynesia'], ['Coastal tropical and subtropical waters of Indo-Pacific and Atlantic Oceans'], ['Maroantsetra to Andapa basin', 'Marojeju Massif', 'Madagascar'], ['Western Cape Province', 'South Africa'], ['Annamite mountains', 'Viet Nam - Laos PDR border'], ['Mauritius'], ['Beydaglari range', 'Antalaya', 'Turkey'], ['Hoan Kiem Lake', 'Dong Mo Lake', 'Viet Nam', 'Suzhou Zoo', 'China'], ['Ujung Kulon National Park', 'Java', 'Indonesia'], ['Northeastern Vietnam'], ['Western Australia', 'Australia'], ['Boni-Dodori Forest', 'Lamu area', 'Kenya'], ['Rivulet beside the Kawasan River', 'Cebu', 'Philippines'], ['St Katherine Mountains', 'Egypt'], ['Marshes of Lake Alaotra', 'Madagascar'], ['Sierra Nevada de Santa Marta', 'Colombia']]\n"
     ]
    }
   ],
   "source": [
    "print(locations_list)"
   ]
  },
  {
   "cell_type": "code",
   "execution_count": 208,
   "metadata": {},
   "outputs": [
    {
     "name": "stdout",
     "output_type": "stream",
     "text": [
      "89\n"
     ]
    }
   ],
   "source": [
    "#shape of locations_list\n",
    "print(len(locations_list))"
   ]
  },
  {
   "cell_type": "code",
   "execution_count": 209,
   "metadata": {},
   "outputs": [],
   "source": [
    "# append it to the species dataframe new coulumn\n",
    "species = species.copy()\n",
    "species['location_list'] = locations_list\n"
   ]
  },
  {
   "cell_type": "code",
   "execution_count": 210,
   "metadata": {},
   "outputs": [
    {
     "data": {
      "text/html": [
       "<div>\n",
       "<style scoped>\n",
       "    .dataframe tbody tr th:only-of-type {\n",
       "        vertical-align: middle;\n",
       "    }\n",
       "\n",
       "    .dataframe tbody tr th {\n",
       "        vertical-align: top;\n",
       "    }\n",
       "\n",
       "    .dataframe thead th {\n",
       "        text-align: right;\n",
       "    }\n",
       "</style>\n",
       "<table border=\"1\" class=\"dataframe\">\n",
       "  <thead>\n",
       "    <tr style=\"text-align: right;\">\n",
       "      <th></th>\n",
       "      <th>species_id</th>\n",
       "      <th>Species Name</th>\n",
       "      <th>Common Name</th>\n",
       "      <th>Type</th>\n",
       "      <th>Location(s)</th>\n",
       "      <th>Estimated Population</th>\n",
       "      <th>Threats</th>\n",
       "      <th>location_list</th>\n",
       "    </tr>\n",
       "  </thead>\n",
       "  <tbody>\n",
       "    <tr>\n",
       "      <th>0</th>\n",
       "      <td>0</td>\n",
       "      <td>Abies beshanzuensis</td>\n",
       "      <td>Baishan fir</td>\n",
       "      <td>Plant (Tree)</td>\n",
       "      <td>Baishanzu Mountain, Zhejiang, China</td>\n",
       "      <td>5 mature individuals</td>\n",
       "      <td>Agriculture, fire</td>\n",
       "      <td>[Baishanzu Mountain, Zhejiang, China]</td>\n",
       "    </tr>\n",
       "    <tr>\n",
       "      <th>1</th>\n",
       "      <td>1</td>\n",
       "      <td>Actinote zikani</td>\n",
       "      <td>-</td>\n",
       "      <td>Insect</td>\n",
       "      <td>Near São Paulo, Atlantic forest, Brazil</td>\n",
       "      <td>Unknown</td>\n",
       "      <td>Habitat loss from human expansion</td>\n",
       "      <td>[Near São Paulo, Atlantic forest, Brazil]</td>\n",
       "    </tr>\n",
       "    <tr>\n",
       "      <th>2</th>\n",
       "      <td>2</td>\n",
       "      <td>Aipysurus foliosquama</td>\n",
       "      <td>Leaf scaled sea-snake</td>\n",
       "      <td>Reptile</td>\n",
       "      <td>Ashmore Reef and Hibernia Reef, Timor Sea</td>\n",
       "      <td>Unknown</td>\n",
       "      <td>Unknown—probably degradation of coral reef hab...</td>\n",
       "      <td>[Ashmore Reef and Hibernia Reef, Timor Sea]</td>\n",
       "    </tr>\n",
       "    <tr>\n",
       "      <th>3</th>\n",
       "      <td>3</td>\n",
       "      <td>Amanipodagrion gilliesi</td>\n",
       "      <td>Amani flatwing</td>\n",
       "      <td>Insect</td>\n",
       "      <td>Amani-Sigi Forest, Usambara Mountains, Tanzania</td>\n",
       "      <td>&lt; 500 individuals</td>\n",
       "      <td>Population pressure, water pollution</td>\n",
       "      <td>[Amani-Sigi Forest, Usambara Mountains, Tanzania]</td>\n",
       "    </tr>\n",
       "    <tr>\n",
       "      <th>4</th>\n",
       "      <td>4</td>\n",
       "      <td>Antisolabis seychellensis</td>\n",
       "      <td>-</td>\n",
       "      <td>Insect</td>\n",
       "      <td>Morne Blanc, Mahé island, Seychelles</td>\n",
       "      <td>Unknown</td>\n",
       "      <td>Invasive species, climate change</td>\n",
       "      <td>[Morne Blanc, Mahé island, Seychelles]</td>\n",
       "    </tr>\n",
       "  </tbody>\n",
       "</table>\n",
       "</div>"
      ],
      "text/plain": [
       "   species_id               Species Name            Common Name          Type  \\\n",
       "0           0        Abies beshanzuensis            Baishan fir  Plant (Tree)   \n",
       "1           1            Actinote zikani                      -        Insect   \n",
       "2           2      Aipysurus foliosquama  Leaf scaled sea-snake       Reptile   \n",
       "3           3    Amanipodagrion gilliesi         Amani flatwing        Insect   \n",
       "4           4  Antisolabis seychellensis                      -        Insect   \n",
       "\n",
       "                                       Location(s)  Estimated Population  \\\n",
       "0              Baishanzu Mountain, Zhejiang, China  5 mature individuals   \n",
       "1          Near São Paulo, Atlantic forest, Brazil               Unknown   \n",
       "2        Ashmore Reef and Hibernia Reef, Timor Sea               Unknown   \n",
       "3  Amani-Sigi Forest, Usambara Mountains, Tanzania     < 500 individuals   \n",
       "4             Morne Blanc, Mahé island, Seychelles               Unknown   \n",
       "\n",
       "                                             Threats  \\\n",
       "0                                  Agriculture, fire   \n",
       "1                  Habitat loss from human expansion   \n",
       "2  Unknown—probably degradation of coral reef hab...   \n",
       "3               Population pressure, water pollution   \n",
       "4                   Invasive species, climate change   \n",
       "\n",
       "                                       location_list  \n",
       "0              [Baishanzu Mountain, Zhejiang, China]  \n",
       "1          [Near São Paulo, Atlantic forest, Brazil]  \n",
       "2        [Ashmore Reef and Hibernia Reef, Timor Sea]  \n",
       "3  [Amani-Sigi Forest, Usambara Mountains, Tanzania]  \n",
       "4             [Morne Blanc, Mahé island, Seychelles]  "
      ]
     },
     "execution_count": 210,
     "metadata": {},
     "output_type": "execute_result"
    }
   ],
   "source": [
    "species.head()"
   ]
  },
  {
   "cell_type": "code",
   "execution_count": 211,
   "metadata": {},
   "outputs": [
    {
     "name": "stdout",
     "output_type": "stream",
     "text": [
      "['Unknown']\n",
      "['Oregon and California']\n",
      "[\"Côte d'Ivoire\"]\n",
      "['Mauritius']\n",
      "['Coastal tropical and subtropical waters of Indo-Pacific and Atlantic Oceans']\n",
      "['Mauritius']\n",
      "['Northeastern Vietnam']\n"
     ]
    }
   ],
   "source": [
    "# show me the lsit of locations with 1 item in the list\n",
    "for location in locations_list:\n",
    "    if len(location) == 1:\n",
    "        print(location)\n"
   ]
  },
  {
   "cell_type": "code",
   "execution_count": 212,
   "metadata": {},
   "outputs": [],
   "source": [
    "#drop unknown locations\n",
    "\n",
    "species = species[species['Location(s)'] != 'Unknown']"
   ]
  },
  {
   "cell_type": "code",
   "execution_count": 213,
   "metadata": {},
   "outputs": [
    {
     "name": "stdout",
     "output_type": "stream",
     "text": [
      "['Ashmore Reef and Hibernia Reef', 'Timor Sea']\n",
      "['South-eastern shore of former Lake Aci', 'Turkey']\n",
      "['Baly Bay region', 'northwestern Madagascar']\n",
      "['Volcanic lakes north of Bealanana', 'Madagascar']\n",
      "['Chinese coast from Yangtze River', 'China to Hong Kong']\n",
      "['Budini and Lafeti Khola', 'Bhutan']\n",
      "['South-east Kenya', 'possibly south-west Somalia']\n",
      "['Atlantic forest', 'south-eastern Brazil']\n",
      "['Isla Escudo de Veraguas', 'Panama']\n",
      "['Pool on Gavdos', 'Greece']\n",
      "[\"Anosibe An'Ala region\", 'eastern Madagascar']\n",
      "['Two small caves on Silhouette and Mahé', 'Seychelles']\n",
      "['Pembrokeshire', 'United Kingdom']\n",
      "['Hellshire Hills', 'Jamaica']\n",
      "['Deciduous forest', 'East Madagascar']\n",
      "['Kasyoha-Kitomi Forest Reserve', 'Uganda']\n",
      "['Hula Valley', 'Israel']\n",
      "['Grand Bassin', 'Mauritius']\n",
      "['Massif de la Hotte', 'Haiti']\n",
      "['Pta Molles and Pichidungui', 'Chile']\n",
      "['Namatimbili-Ngarama Forest', 'Tanzania']\n",
      "['Witu Forest Reserve', 'Kenya']\n",
      "['Lake Ohrid', 'Macedonia']\n",
      "['Liben Plains', 'southern Ethiopia']\n",
      "['Kalalau Valley', 'Hawaii']\n",
      "['Russian and Japanese rivers', 'Pacific Ocean between Russia and Japan']\n",
      "['Bukit Timah Nature Reserve and streamlet near Bukit Batok', 'Singapore']\n",
      "['Coromandel peninsula and Whareorino Forest', 'New Zealand']\n",
      "['Risaralda', 'Colombia']\n",
      "['Silhouette Island', 'Seychelles']\n",
      "['Hainan Island', 'China']\n",
      "['Mulanje Plateau', 'Malawi']\n",
      "['Cerrado', 'Brazil']\n",
      "['Northern Gulf of California', 'Mexico']\n",
      "['Qinling Range', 'China']\n",
      "['Western Cape Province', 'South Africa']\n",
      "['Annamite mountains', 'Viet Nam - Laos PDR border']\n",
      "['Western Australia', 'Australia']\n",
      "['St Katherine Mountains', 'Egypt']\n",
      "['Marshes of Lake Alaotra', 'Madagascar']\n",
      "['Sierra Nevada de Santa Marta', 'Colombia']\n"
     ]
    }
   ],
   "source": [
    "for location in locations_list:\n",
    "    if len(location) == 2:\n",
    "        print(location)"
   ]
  },
  {
   "cell_type": "code",
   "execution_count": 214,
   "metadata": {},
   "outputs": [
    {
     "name": "stdout",
     "output_type": "stream",
     "text": [
      "(88, 8)\n"
     ]
    }
   ],
   "source": [
    "print(species.shape)"
   ]
  },
  {
   "cell_type": "code",
   "execution_count": 215,
   "metadata": {},
   "outputs": [
    {
     "name": "stdout",
     "output_type": "stream",
     "text": [
      "{1, 2, 3, 4, 5, 6}\n"
     ]
    }
   ],
   "source": [
    "# what are all the different lengths of the location list\n",
    "lengths = []\n",
    "for location in locations_list:\n",
    "    lengths.append(len(location))\n",
    "\n",
    "print(set(lengths))"
   ]
  },
  {
   "cell_type": "code",
   "execution_count": 216,
   "metadata": {},
   "outputs": [],
   "source": [
    "# for each item in the list in location_list, create a column region, city, country\n",
    "regions = []\n",
    "cities = []\n",
    "countries = []\n",
    "\n",
    "# handle cases with different lengths of location list\n",
    "for location in locations_list:\n",
    "    if len(location) == 2:\n",
    "        regions.append(location[0])\n",
    "        cities.append('NA')\n",
    "        countries.append(location[1])\n",
    "    elif len(location) == 3:\n",
    "        regions.append(location[0])\n",
    "        cities.append(location[1])\n",
    "        countries.append(location[2])\n",
    "    elif len(location) == 1:\n",
    "        regions.append('NA')\n",
    "        cities.append('NA')\n",
    "        countries.append(location[0])\n"
   ]
  },
  {
   "cell_type": "code",
   "execution_count": 217,
   "metadata": {},
   "outputs": [],
   "source": [
    "# species['region'] = regions\n",
    "# species['city'] = cities\n",
    "# species['country'] = countries\n"
   ]
  },
  {
   "cell_type": "code",
   "execution_count": 218,
   "metadata": {},
   "outputs": [
    {
     "data": {
      "text/html": [
       "<div>\n",
       "<style scoped>\n",
       "    .dataframe tbody tr th:only-of-type {\n",
       "        vertical-align: middle;\n",
       "    }\n",
       "\n",
       "    .dataframe tbody tr th {\n",
       "        vertical-align: top;\n",
       "    }\n",
       "\n",
       "    .dataframe thead th {\n",
       "        text-align: right;\n",
       "    }\n",
       "</style>\n",
       "<table border=\"1\" class=\"dataframe\">\n",
       "  <thead>\n",
       "    <tr style=\"text-align: right;\">\n",
       "      <th></th>\n",
       "      <th>species_id</th>\n",
       "      <th>Species Name</th>\n",
       "      <th>Common Name</th>\n",
       "      <th>Type</th>\n",
       "      <th>Location(s)</th>\n",
       "      <th>Estimated Population</th>\n",
       "      <th>Threats</th>\n",
       "      <th>location_list</th>\n",
       "    </tr>\n",
       "  </thead>\n",
       "  <tbody>\n",
       "    <tr>\n",
       "      <th>0</th>\n",
       "      <td>0</td>\n",
       "      <td>Abies beshanzuensis</td>\n",
       "      <td>Baishan fir</td>\n",
       "      <td>Plant (Tree)</td>\n",
       "      <td>Baishanzu Mountain, Zhejiang, China</td>\n",
       "      <td>5 mature individuals</td>\n",
       "      <td>Agriculture, fire</td>\n",
       "      <td>[Baishanzu Mountain, Zhejiang, China]</td>\n",
       "    </tr>\n",
       "    <tr>\n",
       "      <th>1</th>\n",
       "      <td>1</td>\n",
       "      <td>Actinote zikani</td>\n",
       "      <td>-</td>\n",
       "      <td>Insect</td>\n",
       "      <td>Near São Paulo, Atlantic forest, Brazil</td>\n",
       "      <td>Unknown</td>\n",
       "      <td>Habitat loss from human expansion</td>\n",
       "      <td>[Near São Paulo, Atlantic forest, Brazil]</td>\n",
       "    </tr>\n",
       "    <tr>\n",
       "      <th>2</th>\n",
       "      <td>2</td>\n",
       "      <td>Aipysurus foliosquama</td>\n",
       "      <td>Leaf scaled sea-snake</td>\n",
       "      <td>Reptile</td>\n",
       "      <td>Ashmore Reef and Hibernia Reef, Timor Sea</td>\n",
       "      <td>Unknown</td>\n",
       "      <td>Unknown—probably degradation of coral reef hab...</td>\n",
       "      <td>[Ashmore Reef and Hibernia Reef, Timor Sea]</td>\n",
       "    </tr>\n",
       "    <tr>\n",
       "      <th>3</th>\n",
       "      <td>3</td>\n",
       "      <td>Amanipodagrion gilliesi</td>\n",
       "      <td>Amani flatwing</td>\n",
       "      <td>Insect</td>\n",
       "      <td>Amani-Sigi Forest, Usambara Mountains, Tanzania</td>\n",
       "      <td>&lt; 500 individuals</td>\n",
       "      <td>Population pressure, water pollution</td>\n",
       "      <td>[Amani-Sigi Forest, Usambara Mountains, Tanzania]</td>\n",
       "    </tr>\n",
       "    <tr>\n",
       "      <th>4</th>\n",
       "      <td>4</td>\n",
       "      <td>Antisolabis seychellensis</td>\n",
       "      <td>-</td>\n",
       "      <td>Insect</td>\n",
       "      <td>Morne Blanc, Mahé island, Seychelles</td>\n",
       "      <td>Unknown</td>\n",
       "      <td>Invasive species, climate change</td>\n",
       "      <td>[Morne Blanc, Mahé island, Seychelles]</td>\n",
       "    </tr>\n",
       "  </tbody>\n",
       "</table>\n",
       "</div>"
      ],
      "text/plain": [
       "   species_id               Species Name            Common Name          Type  \\\n",
       "0           0        Abies beshanzuensis            Baishan fir  Plant (Tree)   \n",
       "1           1            Actinote zikani                      -        Insect   \n",
       "2           2      Aipysurus foliosquama  Leaf scaled sea-snake       Reptile   \n",
       "3           3    Amanipodagrion gilliesi         Amani flatwing        Insect   \n",
       "4           4  Antisolabis seychellensis                      -        Insect   \n",
       "\n",
       "                                       Location(s)  Estimated Population  \\\n",
       "0              Baishanzu Mountain, Zhejiang, China  5 mature individuals   \n",
       "1          Near São Paulo, Atlantic forest, Brazil               Unknown   \n",
       "2        Ashmore Reef and Hibernia Reef, Timor Sea               Unknown   \n",
       "3  Amani-Sigi Forest, Usambara Mountains, Tanzania     < 500 individuals   \n",
       "4             Morne Blanc, Mahé island, Seychelles               Unknown   \n",
       "\n",
       "                                             Threats  \\\n",
       "0                                  Agriculture, fire   \n",
       "1                  Habitat loss from human expansion   \n",
       "2  Unknown—probably degradation of coral reef hab...   \n",
       "3               Population pressure, water pollution   \n",
       "4                   Invasive species, climate change   \n",
       "\n",
       "                                       location_list  \n",
       "0              [Baishanzu Mountain, Zhejiang, China]  \n",
       "1          [Near São Paulo, Atlantic forest, Brazil]  \n",
       "2        [Ashmore Reef and Hibernia Reef, Timor Sea]  \n",
       "3  [Amani-Sigi Forest, Usambara Mountains, Tanzania]  \n",
       "4             [Morne Blanc, Mahé island, Seychelles]  "
      ]
     },
     "execution_count": 218,
     "metadata": {},
     "output_type": "execute_result"
    }
   ],
   "source": [
    "species.head()"
   ]
  },
  {
   "cell_type": "code",
   "execution_count": 219,
   "metadata": {},
   "outputs": [],
   "source": [
    "trainingSet = pd.read_csv('D:\\Woking Office\\Calgary Hacks\\EndangeredAnimal\\LivingPlanetIndex_2024_PublicData\\LivingPlanetIndex_2024_PublicData\\LPD_2024_public.csv', encoding='ISO-8859-1')\n"
   ]
  },
  {
   "cell_type": "code",
   "execution_count": 220,
   "metadata": {},
   "outputs": [
    {
     "data": {
      "text/html": [
       "<div>\n",
       "<style scoped>\n",
       "    .dataframe tbody tr th:only-of-type {\n",
       "        vertical-align: middle;\n",
       "    }\n",
       "\n",
       "    .dataframe tbody tr th {\n",
       "        vertical-align: top;\n",
       "    }\n",
       "\n",
       "    .dataframe thead th {\n",
       "        text-align: right;\n",
       "    }\n",
       "</style>\n",
       "<table border=\"1\" class=\"dataframe\">\n",
       "  <thead>\n",
       "    <tr style=\"text-align: right;\">\n",
       "      <th></th>\n",
       "      <th>ID</th>\n",
       "      <th>Binomial</th>\n",
       "      <th>Replicate</th>\n",
       "      <th>Included in LPR2024</th>\n",
       "      <th>Citation</th>\n",
       "      <th>Class</th>\n",
       "      <th>Order</th>\n",
       "      <th>Family</th>\n",
       "      <th>Genus</th>\n",
       "      <th>Species</th>\n",
       "      <th>...</th>\n",
       "      <th>2013</th>\n",
       "      <th>2014</th>\n",
       "      <th>2015</th>\n",
       "      <th>2016</th>\n",
       "      <th>2017</th>\n",
       "      <th>2018</th>\n",
       "      <th>2019</th>\n",
       "      <th>2020</th>\n",
       "      <th>Native</th>\n",
       "      <th>Unnamed: 102</th>\n",
       "    </tr>\n",
       "  </thead>\n",
       "  <tbody>\n",
       "  </tbody>\n",
       "</table>\n",
       "<p>0 rows × 103 columns</p>\n",
       "</div>"
      ],
      "text/plain": [
       "Empty DataFrame\n",
       "Columns: [ID, Binomial, Replicate, Included in LPR2024, Citation, Class, Order, Family, Genus, Species, Subspecies, Common_name, Location, Country, All_countries, Region, IPBES_region, IPBES_subregion, Latitude, Longitude, Specific_location, System, T_realm, T_biome, FW_realm, FW_biome, M_realm, M_ocean, M_biome, Units, 1950, 1951, 1952, 1953, 1954, 1955, 1956, 1957, 1958, 1959, 1960, 1961, 1962, 1963, 1964, 1965, 1966, 1967, 1968, 1969, 1970, 1971, 1972, 1973, 1974, 1975, 1976, 1977, 1978, 1979, 1980, 1981, 1982, 1983, 1984, 1985, 1986, 1987, 1988, 1989, 1990, 1991, 1992, 1993, 1994, 1995, 1996, 1997, 1998, 1999, 2000, 2001, 2002, 2003, 2004, 2005, 2006, 2007, 2008, 2009, 2010, 2011, 2012, 2013, 2014, 2015, 2016, 2017, 2018, 2019, ...]\n",
       "Index: []\n",
       "\n",
       "[0 rows x 103 columns]"
      ]
     },
     "execution_count": 220,
     "metadata": {},
     "output_type": "execute_result"
    }
   ],
   "source": [
    "trainingSet.head(0)\n"
   ]
  },
  {
   "cell_type": "code",
   "execution_count": 221,
   "metadata": {},
   "outputs": [
    {
     "data": {
      "text/plain": [
       "(35996, 103)"
      ]
     },
     "execution_count": 221,
     "metadata": {},
     "output_type": "execute_result"
    }
   ],
   "source": [
    "\n",
    "trainingSet.shape"
   ]
  },
  {
   "cell_type": "code",
   "execution_count": 222,
   "metadata": {},
   "outputs": [],
   "source": [
    "#drop irrelevant columns like citation, data provider, etc\n",
    "df2 = trainingSet.drop(columns=['Binomial','Replicate','Included in LPR2024','Citation', 'Unnamed: 102'])"
   ]
  },
  {
   "cell_type": "code",
   "execution_count": 223,
   "metadata": {},
   "outputs": [
    {
     "data": {
      "text/plain": [
       "(35996, 98)"
      ]
     },
     "execution_count": 223,
     "metadata": {},
     "output_type": "execute_result"
    }
   ],
   "source": [
    "df2.shape"
   ]
  },
  {
   "cell_type": "code",
   "execution_count": 224,
   "metadata": {},
   "outputs": [
    {
     "data": {
      "text/plain": [
       "0                                Grey-crowned crane\n",
       "1                                Seychelles warbler\n",
       "2                           Seychelles magpie-robin\n",
       "3                           Seychelles magpie-robin\n",
       "4                                 Mauritius kestrel\n",
       "                            ...                    \n",
       "35991    Mountain gorilla / Eastern lowland gorilla\n",
       "35992                                Chinook salmon\n",
       "35993                                European bison\n",
       "35994                            Northern bald ibis\n",
       "35995                              Ryukyu scops-owl\n",
       "Name: Common_name, Length: 35996, dtype: object"
      ]
     },
     "execution_count": 224,
     "metadata": {},
     "output_type": "execute_result"
    }
   ],
   "source": [
    "# is there a title called Common Name\n",
    "df2['Common_name']"
   ]
  },
  {
   "cell_type": "code",
   "execution_count": 225,
   "metadata": {},
   "outputs": [],
   "source": [
    "df2 = df2.drop(columns=['Common_name', 'Subspecies'])"
   ]
  },
  {
   "cell_type": "code",
   "execution_count": 226,
   "metadata": {},
   "outputs": [
    {
     "data": {
      "text/plain": [
       "<bound method DataFrame.drop of             ID        Class           Order             Family         Genus  \\\n",
       "0            1         Aves      Gruiformes            Gruidae     Balearica   \n",
       "1            2         Aves   Passeriformes     Acrocephalidae  Acrocephalus   \n",
       "2            3         Aves   Passeriformes       Muscicapidae     Copsychus   \n",
       "3            4         Aves   Passeriformes       Muscicapidae     Copsychus   \n",
       "4            5         Aves   Falconiformes         Falconidae         Falco   \n",
       "...        ...          ...             ...                ...           ...   \n",
       "35991  1000003     Mammalia        Primates          Hominidae       Gorilla   \n",
       "35992  1000004  Actinopteri   Salmoniformes         Salmonidae  Oncorhynchus   \n",
       "35993  1000005     Mammalia    Artiodactyla            Bovidae         Bison   \n",
       "35994  1000006         Aves  Pelecaniformes  Threskiornithidae    Geronticus   \n",
       "35995  1000007         Aves    Strigiformes          Strigidae          Otus   \n",
       "\n",
       "            Species                                     Location  \\\n",
       "0         regulorum                         South-western Uganda   \n",
       "1      sechellensis                    Cousin Island, Seychelles   \n",
       "2       sechellarum                                   Seychelles   \n",
       "3       sechellarum                   Fregate Island, Seychelles   \n",
       "4         punctatus                Western Population, Mauritius   \n",
       "...             ...                                          ...   \n",
       "35991      beringei           Virunga Range, Uganda, Rwanda, DRC   \n",
       "35992   tshawytscha                  Sacramento River winter-run   \n",
       "35993       bonasus                                       Europe   \n",
       "35994       eremita         Souss-Massa and Tamri, Agadir region   \n",
       "35995       elegans  Minami-daito Island, east of Okinawa Island   \n",
       "\n",
       "             Country                                      All_countries  \\\n",
       "0             Uganda                                             Uganda   \n",
       "1         Seychelles                                         Seychelles   \n",
       "2         Seychelles                                         Seychelles   \n",
       "3         Seychelles                                         Seychelles   \n",
       "4          Mauritius                                          Mauritius   \n",
       "...              ...                                                ...   \n",
       "35991         Uganda  Uganda, Rwanda, Congo, The Democratic Republic...   \n",
       "35992  United States                                      United States   \n",
       "35993        Belarus  Belarus, Poland, Russian Federation, Ukraine, ...   \n",
       "35994        Morocco                                            Morocco   \n",
       "35995          Japan                                              Japan   \n",
       "\n",
       "              Region  ...    2012    2013    2014    2015    2016    2017  \\\n",
       "0             Africa  ...     NaN     NaN     NaN     NaN     NaN     NaN   \n",
       "1             Africa  ...     NaN     NaN     NaN     NaN     NaN     NaN   \n",
       "2             Africa  ...     NaN     NaN     NaN     NaN     NaN     NaN   \n",
       "3             Africa  ...     NaN     NaN     NaN     NaN     NaN     NaN   \n",
       "4             Africa  ...     NaN     NaN     NaN     NaN     NaN     NaN   \n",
       "...              ...  ...     ...     ...     ...     ...     ...     ...   \n",
       "35991         Africa  ...     NaN     NaN     NaN   669.0     NaN     NaN   \n",
       "35992  North America  ...  2671.0  6086.0  3015.0  3440.0  1549.0   979.0   \n",
       "35993         Europe  ...     NaN     NaN     NaN  3994.0     NaN  5024.0   \n",
       "35994         Africa  ...    65.0   113.0   115.0   116.0   111.0   122.0   \n",
       "35995           Asia  ...   667.0   596.0   549.0   536.0   644.0   554.0   \n",
       "\n",
       "         2018    2019    2020 Native  \n",
       "0         NaN     NaN     NaN      1  \n",
       "1         NaN     NaN     NaN      1  \n",
       "2         NaN     NaN     NaN      1  \n",
       "3         NaN     NaN     NaN      1  \n",
       "4         NaN     NaN     NaN      1  \n",
       "...       ...     ...     ...    ...  \n",
       "35991     NaN     NaN     NaN      1  \n",
       "35992  2639.0  8128.0  7428.0      1  \n",
       "35993  5357.0  6244.0  6819.0      1  \n",
       "35994   147.0     NaN     NaN      1  \n",
       "35995   544.0     NaN     NaN      1  \n",
       "\n",
       "[35996 rows x 96 columns]>"
      ]
     },
     "execution_count": 226,
     "metadata": {},
     "output_type": "execute_result"
    }
   ],
   "source": [
    "df2.shape\n",
    "\n",
    "df2.drop"
   ]
  },
  {
   "cell_type": "code",
   "execution_count": 227,
   "metadata": {},
   "outputs": [
    {
     "data": {
      "text/plain": [
       "24"
      ]
     },
     "execution_count": 227,
     "metadata": {},
     "output_type": "execute_result"
    }
   ],
   "source": [
    "#drop rows with nan values for Class\n",
    "df2 = df2.dropna(subset=['Class'])\n",
    "\n",
    "df2.shape\n",
    "\n",
    "#find column range for years 1950 to 2020\n",
    "df2.columns.get_loc('1950')\n"
   ]
  },
  {
   "cell_type": "code",
   "execution_count": 228,
   "metadata": {},
   "outputs": [
    {
     "data": {
      "text/plain": [
       "94"
      ]
     },
     "execution_count": 228,
     "metadata": {},
     "output_type": "execute_result"
    }
   ],
   "source": [
    "df2.columns.get_loc('2020')"
   ]
  },
  {
   "cell_type": "code",
   "execution_count": 229,
   "metadata": {},
   "outputs": [
    {
     "data": {
      "text/plain": [
       "(35996, 96)"
      ]
     },
     "execution_count": 229,
     "metadata": {},
     "output_type": "execute_result"
    }
   ],
   "source": [
    "df2.shape"
   ]
  },
  {
   "cell_type": "code",
   "execution_count": 233,
   "metadata": {},
   "outputs": [],
   "source": [
    "#interprolate the missing values for columns 1950 to 2020\n",
    "df2\n",
    "df2.iloc[:, 24:95] = df2.iloc[:, 24:95].interpolate(method='linear', axis=1)"
   ]
  },
  {
   "cell_type": "code",
   "execution_count": 234,
   "metadata": {},
   "outputs": [
    {
     "data": {
      "text/html": [
       "<div>\n",
       "<style scoped>\n",
       "    .dataframe tbody tr th:only-of-type {\n",
       "        vertical-align: middle;\n",
       "    }\n",
       "\n",
       "    .dataframe tbody tr th {\n",
       "        vertical-align: top;\n",
       "    }\n",
       "\n",
       "    .dataframe thead th {\n",
       "        text-align: right;\n",
       "    }\n",
       "</style>\n",
       "<table border=\"1\" class=\"dataframe\">\n",
       "  <thead>\n",
       "    <tr style=\"text-align: right;\">\n",
       "      <th></th>\n",
       "      <th>ID</th>\n",
       "      <th>Class</th>\n",
       "      <th>Order</th>\n",
       "      <th>Family</th>\n",
       "      <th>Genus</th>\n",
       "      <th>Species</th>\n",
       "      <th>Location</th>\n",
       "      <th>Country</th>\n",
       "      <th>All_countries</th>\n",
       "      <th>Region</th>\n",
       "      <th>...</th>\n",
       "      <th>2012</th>\n",
       "      <th>2013</th>\n",
       "      <th>2014</th>\n",
       "      <th>2015</th>\n",
       "      <th>2016</th>\n",
       "      <th>2017</th>\n",
       "      <th>2018</th>\n",
       "      <th>2019</th>\n",
       "      <th>2020</th>\n",
       "      <th>Native</th>\n",
       "    </tr>\n",
       "  </thead>\n",
       "  <tbody>\n",
       "    <tr>\n",
       "      <th>0</th>\n",
       "      <td>1</td>\n",
       "      <td>Aves</td>\n",
       "      <td>Gruiformes</td>\n",
       "      <td>Gruidae</td>\n",
       "      <td>Balearica</td>\n",
       "      <td>regulorum</td>\n",
       "      <td>South-western Uganda</td>\n",
       "      <td>Uganda</td>\n",
       "      <td>Uganda</td>\n",
       "      <td>Africa</td>\n",
       "      <td>...</td>\n",
       "      <td>10.8</td>\n",
       "      <td>10.8</td>\n",
       "      <td>10.8</td>\n",
       "      <td>10.8</td>\n",
       "      <td>10.8</td>\n",
       "      <td>10.8</td>\n",
       "      <td>10.8</td>\n",
       "      <td>10.8</td>\n",
       "      <td>10.8</td>\n",
       "      <td>1</td>\n",
       "    </tr>\n",
       "    <tr>\n",
       "      <th>1</th>\n",
       "      <td>2</td>\n",
       "      <td>Aves</td>\n",
       "      <td>Passeriformes</td>\n",
       "      <td>Acrocephalidae</td>\n",
       "      <td>Acrocephalus</td>\n",
       "      <td>sechellensis</td>\n",
       "      <td>Cousin Island, Seychelles</td>\n",
       "      <td>Seychelles</td>\n",
       "      <td>Seychelles</td>\n",
       "      <td>Africa</td>\n",
       "      <td>...</td>\n",
       "      <td>430.0</td>\n",
       "      <td>430.0</td>\n",
       "      <td>430.0</td>\n",
       "      <td>430.0</td>\n",
       "      <td>430.0</td>\n",
       "      <td>430.0</td>\n",
       "      <td>430.0</td>\n",
       "      <td>430.0</td>\n",
       "      <td>430.0</td>\n",
       "      <td>1</td>\n",
       "    </tr>\n",
       "    <tr>\n",
       "      <th>2</th>\n",
       "      <td>3</td>\n",
       "      <td>Aves</td>\n",
       "      <td>Passeriformes</td>\n",
       "      <td>Muscicapidae</td>\n",
       "      <td>Copsychus</td>\n",
       "      <td>sechellarum</td>\n",
       "      <td>Seychelles</td>\n",
       "      <td>Seychelles</td>\n",
       "      <td>Seychelles</td>\n",
       "      <td>Africa</td>\n",
       "      <td>...</td>\n",
       "      <td>21.0</td>\n",
       "      <td>21.0</td>\n",
       "      <td>21.0</td>\n",
       "      <td>21.0</td>\n",
       "      <td>21.0</td>\n",
       "      <td>21.0</td>\n",
       "      <td>21.0</td>\n",
       "      <td>21.0</td>\n",
       "      <td>21.0</td>\n",
       "      <td>1</td>\n",
       "    </tr>\n",
       "    <tr>\n",
       "      <th>3</th>\n",
       "      <td>4</td>\n",
       "      <td>Aves</td>\n",
       "      <td>Passeriformes</td>\n",
       "      <td>Muscicapidae</td>\n",
       "      <td>Copsychus</td>\n",
       "      <td>sechellarum</td>\n",
       "      <td>Fregate Island, Seychelles</td>\n",
       "      <td>Seychelles</td>\n",
       "      <td>Seychelles</td>\n",
       "      <td>Africa</td>\n",
       "      <td>...</td>\n",
       "      <td>22.0</td>\n",
       "      <td>22.0</td>\n",
       "      <td>22.0</td>\n",
       "      <td>22.0</td>\n",
       "      <td>22.0</td>\n",
       "      <td>22.0</td>\n",
       "      <td>22.0</td>\n",
       "      <td>22.0</td>\n",
       "      <td>22.0</td>\n",
       "      <td>1</td>\n",
       "    </tr>\n",
       "    <tr>\n",
       "      <th>4</th>\n",
       "      <td>5</td>\n",
       "      <td>Aves</td>\n",
       "      <td>Falconiformes</td>\n",
       "      <td>Falconidae</td>\n",
       "      <td>Falco</td>\n",
       "      <td>punctatus</td>\n",
       "      <td>Western Population, Mauritius</td>\n",
       "      <td>Mauritius</td>\n",
       "      <td>Mauritius</td>\n",
       "      <td>Africa</td>\n",
       "      <td>...</td>\n",
       "      <td>61.0</td>\n",
       "      <td>61.0</td>\n",
       "      <td>61.0</td>\n",
       "      <td>61.0</td>\n",
       "      <td>61.0</td>\n",
       "      <td>61.0</td>\n",
       "      <td>61.0</td>\n",
       "      <td>61.0</td>\n",
       "      <td>61.0</td>\n",
       "      <td>1</td>\n",
       "    </tr>\n",
       "  </tbody>\n",
       "</table>\n",
       "<p>5 rows × 96 columns</p>\n",
       "</div>"
      ],
      "text/plain": [
       "   ID Class          Order          Family         Genus       Species  \\\n",
       "0   1  Aves     Gruiformes         Gruidae     Balearica     regulorum   \n",
       "1   2  Aves  Passeriformes  Acrocephalidae  Acrocephalus  sechellensis   \n",
       "2   3  Aves  Passeriformes    Muscicapidae     Copsychus   sechellarum   \n",
       "3   4  Aves  Passeriformes    Muscicapidae     Copsychus   sechellarum   \n",
       "4   5  Aves  Falconiformes      Falconidae         Falco     punctatus   \n",
       "\n",
       "                        Location     Country All_countries  Region  ...  \\\n",
       "0           South-western Uganda      Uganda        Uganda  Africa  ...   \n",
       "1      Cousin Island, Seychelles  Seychelles    Seychelles  Africa  ...   \n",
       "2                     Seychelles  Seychelles    Seychelles  Africa  ...   \n",
       "3     Fregate Island, Seychelles  Seychelles    Seychelles  Africa  ...   \n",
       "4  Western Population, Mauritius   Mauritius     Mauritius  Africa  ...   \n",
       "\n",
       "    2012   2013   2014   2015   2016   2017   2018   2019   2020 Native  \n",
       "0   10.8   10.8   10.8   10.8   10.8   10.8   10.8   10.8   10.8      1  \n",
       "1  430.0  430.0  430.0  430.0  430.0  430.0  430.0  430.0  430.0      1  \n",
       "2   21.0   21.0   21.0   21.0   21.0   21.0   21.0   21.0   21.0      1  \n",
       "3   22.0   22.0   22.0   22.0   22.0   22.0   22.0   22.0   22.0      1  \n",
       "4   61.0   61.0   61.0   61.0   61.0   61.0   61.0   61.0   61.0      1  \n",
       "\n",
       "[5 rows x 96 columns]"
      ]
     },
     "execution_count": 234,
     "metadata": {},
     "output_type": "execute_result"
    }
   ],
   "source": [
    "#index of columns for 1950 to 2020\n",
    "\n",
    "df2.head()\n"
   ]
  },
  {
   "cell_type": "code",
   "execution_count": null,
   "metadata": {},
   "outputs": [],
   "source": []
  }
 ],
 "metadata": {
  "kernelspec": {
   "display_name": "base",
   "language": "python",
   "name": "python3"
  },
  "language_info": {
   "codemirror_mode": {
    "name": "ipython",
    "version": 3
   },
   "file_extension": ".py",
   "mimetype": "text/x-python",
   "name": "python",
   "nbconvert_exporter": "python",
   "pygments_lexer": "ipython3",
   "version": "3.11.7"
  }
 },
 "nbformat": 4,
 "nbformat_minor": 2
}
